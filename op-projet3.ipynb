{
 "cells": [
  {
   "cell_type": "markdown",
   "metadata": {},
   "source": [
    "# Moteur de recommandation de films"
   ]
  },
  {
   "cell_type": "markdown",
   "metadata": {},
   "source": [
    "L’objectif de ce notebook est de créer un moteur de recommandation de films à l’aide des méthodes non supervisées.  \n",
    "Le data set de travail est une base d’environ 5000 films issue d'[IMDB](https://fr.wikipedia.org/wiki/Internet_Movie_Database)  \n",
    "Le moteur devra être capable de retourner 5 recommandations de films susceptibles de plaire à l’utilisateur, cela à partir d’une requête d’un nom ou un id de film.\n",
    "\n",
    "Ne disposant pas de l'historique des choix d'utilisateurs, je ne peux pas envisager de faire un moteur de type [filtrage collaboratif](https://fr.wikipedia.org/wiki/Filtrage_collaboratif) et dans quel cas la recommandation se base sur l’historique de l’utilisateur et ceux d’individus ayant un profile similaire .\n",
    "\n",
    "\n",
    "Dans la mesure où j'ai seulement des informations concernant les films, une approche [basée sur le contenu](https://fr.wikipedia.org/wiki/Syst%C3%A8me_de_recommandation)  s’y prête  bien.\n"
   ]
  },
  {
   "cell_type": "code",
   "execution_count": 1,
   "metadata": {
    "collapsed": true
   },
   "outputs": [],
   "source": [
    "import pandas as pd\n",
    "pd.set_option(\"display.max_columns\", 100)\n",
    "import missingno as msno\n",
    "import matplotlib.pyplot as plt\n",
    "import numpy as np\n",
    "from biokit.viz import corrplot"
   ]
  },
  {
   "cell_type": "code",
   "execution_count": 2,
   "metadata": {
    "collapsed": true
   },
   "outputs": [],
   "source": [
    "# fonction générant à chaque appel une valeur numérique différente\n",
    "symbole = 1\n",
    "def gen_symbole():\n",
    "    global symbole \n",
    "    symbole = symbole + 1\n",
    "    return symbole"
   ]
  },
  {
   "cell_type": "code",
   "execution_count": 3,
   "metadata": {
    "scrolled": true
   },
   "outputs": [
    {
     "name": "stdout",
     "output_type": "stream",
     "text": [
      "Avant suppression des doublons (5043, 28)\n",
      "Après suppression des doublons (4998, 28)\n"
     ]
    },
    {
     "data": {
      "text/html": [
       "<div>\n",
       "<style>\n",
       "    .dataframe thead tr:only-child th {\n",
       "        text-align: right;\n",
       "    }\n",
       "\n",
       "    .dataframe thead th {\n",
       "        text-align: left;\n",
       "    }\n",
       "\n",
       "    .dataframe tbody tr th {\n",
       "        vertical-align: top;\n",
       "    }\n",
       "</style>\n",
       "<table border=\"1\" class=\"dataframe\">\n",
       "  <thead>\n",
       "    <tr style=\"text-align: right;\">\n",
       "      <th></th>\n",
       "      <th>color</th>\n",
       "      <th>director_name</th>\n",
       "      <th>num_critic_for_reviews</th>\n",
       "      <th>duration</th>\n",
       "      <th>director_facebook_likes</th>\n",
       "      <th>actor_3_facebook_likes</th>\n",
       "      <th>actor_2_name</th>\n",
       "      <th>actor_1_facebook_likes</th>\n",
       "      <th>gross</th>\n",
       "      <th>genres</th>\n",
       "      <th>actor_1_name</th>\n",
       "      <th>movie_title</th>\n",
       "      <th>num_voted_users</th>\n",
       "      <th>cast_total_facebook_likes</th>\n",
       "      <th>actor_3_name</th>\n",
       "      <th>facenumber_in_poster</th>\n",
       "      <th>plot_keywords</th>\n",
       "      <th>movie_imdb_link</th>\n",
       "      <th>num_user_for_reviews</th>\n",
       "      <th>language</th>\n",
       "      <th>country</th>\n",
       "      <th>content_rating</th>\n",
       "      <th>budget</th>\n",
       "      <th>title_year</th>\n",
       "      <th>actor_2_facebook_likes</th>\n",
       "      <th>imdb_score</th>\n",
       "      <th>aspect_ratio</th>\n",
       "      <th>movie_facebook_likes</th>\n",
       "    </tr>\n",
       "  </thead>\n",
       "  <tbody>\n",
       "    <tr>\n",
       "      <th>0</th>\n",
       "      <td>Color</td>\n",
       "      <td>James Cameron</td>\n",
       "      <td>723.0</td>\n",
       "      <td>178.0</td>\n",
       "      <td>0.0</td>\n",
       "      <td>855.0</td>\n",
       "      <td>Joel David Moore</td>\n",
       "      <td>1000.0</td>\n",
       "      <td>760505847.0</td>\n",
       "      <td>Action|Adventure|Fantasy|Sci-Fi</td>\n",
       "      <td>CCH Pounder</td>\n",
       "      <td>Avatar</td>\n",
       "      <td>886204</td>\n",
       "      <td>4834</td>\n",
       "      <td>Wes Studi</td>\n",
       "      <td>0.0</td>\n",
       "      <td>avatar|future|marine|native|paraplegic</td>\n",
       "      <td>http://www.imdb.com/title/tt0499549/?ref_=fn_t...</td>\n",
       "      <td>3054.0</td>\n",
       "      <td>English</td>\n",
       "      <td>USA</td>\n",
       "      <td>PG-13</td>\n",
       "      <td>237000000.0</td>\n",
       "      <td>2009.0</td>\n",
       "      <td>936.0</td>\n",
       "      <td>7.9</td>\n",
       "      <td>1.78</td>\n",
       "      <td>33000</td>\n",
       "    </tr>\n",
       "    <tr>\n",
       "      <th>1</th>\n",
       "      <td>Color</td>\n",
       "      <td>Gore Verbinski</td>\n",
       "      <td>302.0</td>\n",
       "      <td>169.0</td>\n",
       "      <td>563.0</td>\n",
       "      <td>1000.0</td>\n",
       "      <td>Orlando Bloom</td>\n",
       "      <td>40000.0</td>\n",
       "      <td>309404152.0</td>\n",
       "      <td>Action|Adventure|Fantasy</td>\n",
       "      <td>Johnny Depp</td>\n",
       "      <td>Pirates of the Caribbean: At World's End</td>\n",
       "      <td>471220</td>\n",
       "      <td>48350</td>\n",
       "      <td>Jack Davenport</td>\n",
       "      <td>0.0</td>\n",
       "      <td>goddess|marriage ceremony|marriage proposal|pi...</td>\n",
       "      <td>http://www.imdb.com/title/tt0449088/?ref_=fn_t...</td>\n",
       "      <td>1238.0</td>\n",
       "      <td>English</td>\n",
       "      <td>USA</td>\n",
       "      <td>PG-13</td>\n",
       "      <td>300000000.0</td>\n",
       "      <td>2007.0</td>\n",
       "      <td>5000.0</td>\n",
       "      <td>7.1</td>\n",
       "      <td>2.35</td>\n",
       "      <td>0</td>\n",
       "    </tr>\n",
       "    <tr>\n",
       "      <th>2</th>\n",
       "      <td>Color</td>\n",
       "      <td>Sam Mendes</td>\n",
       "      <td>602.0</td>\n",
       "      <td>148.0</td>\n",
       "      <td>0.0</td>\n",
       "      <td>161.0</td>\n",
       "      <td>Rory Kinnear</td>\n",
       "      <td>11000.0</td>\n",
       "      <td>200074175.0</td>\n",
       "      <td>Action|Adventure|Thriller</td>\n",
       "      <td>Christoph Waltz</td>\n",
       "      <td>Spectre</td>\n",
       "      <td>275868</td>\n",
       "      <td>11700</td>\n",
       "      <td>Stephanie Sigman</td>\n",
       "      <td>1.0</td>\n",
       "      <td>bomb|espionage|sequel|spy|terrorist</td>\n",
       "      <td>http://www.imdb.com/title/tt2379713/?ref_=fn_t...</td>\n",
       "      <td>994.0</td>\n",
       "      <td>English</td>\n",
       "      <td>UK</td>\n",
       "      <td>PG-13</td>\n",
       "      <td>245000000.0</td>\n",
       "      <td>2015.0</td>\n",
       "      <td>393.0</td>\n",
       "      <td>6.8</td>\n",
       "      <td>2.35</td>\n",
       "      <td>85000</td>\n",
       "    </tr>\n",
       "  </tbody>\n",
       "</table>\n",
       "</div>"
      ],
      "text/plain": [
       "   color   director_name  num_critic_for_reviews  duration  \\\n",
       "0  Color   James Cameron                   723.0     178.0   \n",
       "1  Color  Gore Verbinski                   302.0     169.0   \n",
       "2  Color      Sam Mendes                   602.0     148.0   \n",
       "\n",
       "   director_facebook_likes  actor_3_facebook_likes      actor_2_name  \\\n",
       "0                      0.0                   855.0  Joel David Moore   \n",
       "1                    563.0                  1000.0     Orlando Bloom   \n",
       "2                      0.0                   161.0      Rory Kinnear   \n",
       "\n",
       "   actor_1_facebook_likes        gross                           genres  \\\n",
       "0                  1000.0  760505847.0  Action|Adventure|Fantasy|Sci-Fi   \n",
       "1                 40000.0  309404152.0         Action|Adventure|Fantasy   \n",
       "2                 11000.0  200074175.0        Action|Adventure|Thriller   \n",
       "\n",
       "      actor_1_name                                movie_title  \\\n",
       "0      CCH Pounder                                    Avatar    \n",
       "1      Johnny Depp  Pirates of the Caribbean: At World's End    \n",
       "2  Christoph Waltz                                   Spectre    \n",
       "\n",
       "   num_voted_users  cast_total_facebook_likes      actor_3_name  \\\n",
       "0           886204                       4834         Wes Studi   \n",
       "1           471220                      48350    Jack Davenport   \n",
       "2           275868                      11700  Stephanie Sigman   \n",
       "\n",
       "   facenumber_in_poster                                      plot_keywords  \\\n",
       "0                   0.0             avatar|future|marine|native|paraplegic   \n",
       "1                   0.0  goddess|marriage ceremony|marriage proposal|pi...   \n",
       "2                   1.0                bomb|espionage|sequel|spy|terrorist   \n",
       "\n",
       "                                     movie_imdb_link  num_user_for_reviews  \\\n",
       "0  http://www.imdb.com/title/tt0499549/?ref_=fn_t...                3054.0   \n",
       "1  http://www.imdb.com/title/tt0449088/?ref_=fn_t...                1238.0   \n",
       "2  http://www.imdb.com/title/tt2379713/?ref_=fn_t...                 994.0   \n",
       "\n",
       "  language country content_rating       budget  title_year  \\\n",
       "0  English     USA          PG-13  237000000.0      2009.0   \n",
       "1  English     USA          PG-13  300000000.0      2007.0   \n",
       "2  English      UK          PG-13  245000000.0      2015.0   \n",
       "\n",
       "   actor_2_facebook_likes  imdb_score  aspect_ratio  movie_facebook_likes  \n",
       "0                   936.0         7.9          1.78                 33000  \n",
       "1                  5000.0         7.1          2.35                     0  \n",
       "2                   393.0         6.8          2.35                 85000  "
      ]
     },
     "execution_count": 3,
     "metadata": {},
     "output_type": "execute_result"
    }
   ],
   "source": [
    "# lecture de fichier csv contenant la donnée.\n",
    "movies = pd.read_csv('movie_metadata.csv', sep=',', low_memory=False)\n",
    "print(\"Avant suppression des doublons\", movies.shape)\n",
    "\n",
    "# suppression des doublons\n",
    "movies.drop_duplicates(inplace=True)\n",
    "\n",
    "# réarrangement des index suite à la suppression des doublons.\n",
    "movies = movies.reset_index(drop=True)\n",
    "\n",
    "# aperçu de la donnée.\n",
    "print(\"Après suppression des doublons\", movies.shape)\n",
    "movies.head(3)"
   ]
  },
  {
   "cell_type": "markdown",
   "metadata": {},
   "source": [
    "# Etat de la donnée"
   ]
  },
  {
   "cell_type": "markdown",
   "metadata": {},
   "source": [
    "Dans la représentation et le tableau ci-dessous, on voit bien que l’état du data set est «**propre**», dans  \n",
    "la mesure où le taux de remplissage est très élevé , du moins pour les variables qui m’intéressent dans la suite de ce notebook.\n",
    "\n",
    "Toutes les variables que je vais utiliser sont renseignées à au moins **96.95%** (mots clés)  \n",
    "Je gérerai **les valeurs manquantes** au besoin quand je construirai les notions de « **distance** » et « **popularité** »\n",
    "\n",
    "Quant aux «**outliers**»,  comme on va le voir par la suite, l’ensemble des variables utilisées dans la construction de la notion de similarité sont **qualitatives**,  je n’avais donc pas à les traiter.\n"
   ]
  },
  {
   "cell_type": "code",
   "execution_count": 4,
   "metadata": {
    "scrolled": false
   },
   "outputs": [
    {
     "data": {
      "image/png": "[encoded data removed]",
      "text/plain": [
       "<matplotlib.figure.Figure at 0x3d70668>"
      ]
     },
     "metadata": {},
     "output_type": "display_data"
    }
   ],
   "source": [
    "# visualisation globale des \"valeurs\" manquante.\n",
    "msno.matrix(movies)"
   ]
  },
  {
   "cell_type": "code",
   "execution_count": 229,
   "metadata": {},
   "outputs": [
    {
     "data": {
      "text/html": [
       "<div>\n",
       "<style>\n",
       "    .dataframe thead tr:only-child th {\n",
       "        text-align: right;\n",
       "    }\n",
       "\n",
       "    .dataframe thead th {\n",
       "        text-align: left;\n",
       "    }\n",
       "\n",
       "    .dataframe tbody tr th {\n",
       "        vertical-align: top;\n",
       "    }\n",
       "</style>\n",
       "<table border=\"1\" class=\"dataframe\">\n",
       "  <thead>\n",
       "    <tr style=\"text-align: right;\">\n",
       "      <th></th>\n",
       "      <th>colonne</th>\n",
       "      <th>manquant</th>\n",
       "      <th>taux_remplissage</th>\n",
       "    </tr>\n",
       "  </thead>\n",
       "  <tbody>\n",
       "    <tr>\n",
       "      <th>0</th>\n",
       "      <td>gross</td>\n",
       "      <td>874</td>\n",
       "      <td>82.513005</td>\n",
       "    </tr>\n",
       "    <tr>\n",
       "      <th>1</th>\n",
       "      <td>budget</td>\n",
       "      <td>487</td>\n",
       "      <td>90.256102</td>\n",
       "    </tr>\n",
       "    <tr>\n",
       "      <th>2</th>\n",
       "      <td>aspect_ratio</td>\n",
       "      <td>327</td>\n",
       "      <td>93.457383</td>\n",
       "    </tr>\n",
       "    <tr>\n",
       "      <th>3</th>\n",
       "      <td>content_rating</td>\n",
       "      <td>301</td>\n",
       "      <td>93.977591</td>\n",
       "    </tr>\n",
       "    <tr>\n",
       "      <th>4</th>\n",
       "      <td>plot_keywords</td>\n",
       "      <td>152</td>\n",
       "      <td>96.958784</td>\n",
       "    </tr>\n",
       "    <tr>\n",
       "      <th>5</th>\n",
       "      <td>title_year</td>\n",
       "      <td>107</td>\n",
       "      <td>97.859144</td>\n",
       "    </tr>\n",
       "    <tr>\n",
       "      <th>6</th>\n",
       "      <td>director_name</td>\n",
       "      <td>103</td>\n",
       "      <td>97.939176</td>\n",
       "    </tr>\n",
       "    <tr>\n",
       "      <th>7</th>\n",
       "      <td>director_facebook_likes</td>\n",
       "      <td>103</td>\n",
       "      <td>97.939176</td>\n",
       "    </tr>\n",
       "    <tr>\n",
       "      <th>8</th>\n",
       "      <td>num_critic_for_reviews</td>\n",
       "      <td>49</td>\n",
       "      <td>99.019608</td>\n",
       "    </tr>\n",
       "    <tr>\n",
       "      <th>9</th>\n",
       "      <td>actor_3_facebook_likes</td>\n",
       "      <td>23</td>\n",
       "      <td>99.539816</td>\n",
       "    </tr>\n",
       "    <tr>\n",
       "      <th>10</th>\n",
       "      <td>actor_3_name</td>\n",
       "      <td>23</td>\n",
       "      <td>99.539816</td>\n",
       "    </tr>\n",
       "    <tr>\n",
       "      <th>11</th>\n",
       "      <td>num_user_for_reviews</td>\n",
       "      <td>21</td>\n",
       "      <td>99.579832</td>\n",
       "    </tr>\n",
       "    <tr>\n",
       "      <th>12</th>\n",
       "      <td>color</td>\n",
       "      <td>19</td>\n",
       "      <td>99.619848</td>\n",
       "    </tr>\n",
       "    <tr>\n",
       "      <th>13</th>\n",
       "      <td>duration</td>\n",
       "      <td>15</td>\n",
       "      <td>99.699880</td>\n",
       "    </tr>\n",
       "    <tr>\n",
       "      <th>14</th>\n",
       "      <td>facenumber_in_poster</td>\n",
       "      <td>13</td>\n",
       "      <td>99.739896</td>\n",
       "    </tr>\n",
       "    <tr>\n",
       "      <th>15</th>\n",
       "      <td>actor_2_name</td>\n",
       "      <td>13</td>\n",
       "      <td>99.739896</td>\n",
       "    </tr>\n",
       "    <tr>\n",
       "      <th>16</th>\n",
       "      <td>actor_2_facebook_likes</td>\n",
       "      <td>13</td>\n",
       "      <td>99.739896</td>\n",
       "    </tr>\n",
       "    <tr>\n",
       "      <th>17</th>\n",
       "      <td>language</td>\n",
       "      <td>12</td>\n",
       "      <td>99.759904</td>\n",
       "    </tr>\n",
       "    <tr>\n",
       "      <th>18</th>\n",
       "      <td>actor_1_facebook_likes</td>\n",
       "      <td>7</td>\n",
       "      <td>99.859944</td>\n",
       "    </tr>\n",
       "    <tr>\n",
       "      <th>19</th>\n",
       "      <td>actor_1_name</td>\n",
       "      <td>7</td>\n",
       "      <td>99.859944</td>\n",
       "    </tr>\n",
       "    <tr>\n",
       "      <th>20</th>\n",
       "      <td>country</td>\n",
       "      <td>5</td>\n",
       "      <td>99.899960</td>\n",
       "    </tr>\n",
       "    <tr>\n",
       "      <th>21</th>\n",
       "      <td>imdb_score</td>\n",
       "      <td>0</td>\n",
       "      <td>100.000000</td>\n",
       "    </tr>\n",
       "    <tr>\n",
       "      <th>22</th>\n",
       "      <td>cast_total_facebook_likes</td>\n",
       "      <td>0</td>\n",
       "      <td>100.000000</td>\n",
       "    </tr>\n",
       "    <tr>\n",
       "      <th>23</th>\n",
       "      <td>num_voted_users</td>\n",
       "      <td>0</td>\n",
       "      <td>100.000000</td>\n",
       "    </tr>\n",
       "    <tr>\n",
       "      <th>24</th>\n",
       "      <td>movie_title</td>\n",
       "      <td>0</td>\n",
       "      <td>100.000000</td>\n",
       "    </tr>\n",
       "    <tr>\n",
       "      <th>25</th>\n",
       "      <td>genres</td>\n",
       "      <td>0</td>\n",
       "      <td>100.000000</td>\n",
       "    </tr>\n",
       "    <tr>\n",
       "      <th>26</th>\n",
       "      <td>movie_imdb_link</td>\n",
       "      <td>0</td>\n",
       "      <td>100.000000</td>\n",
       "    </tr>\n",
       "    <tr>\n",
       "      <th>27</th>\n",
       "      <td>movie_facebook_likes</td>\n",
       "      <td>0</td>\n",
       "      <td>100.000000</td>\n",
       "    </tr>\n",
       "  </tbody>\n",
       "</table>\n",
       "</div>"
      ],
      "text/plain": [
       "                      colonne  manquant  taux_remplissage\n",
       "0                       gross       874         82.513005\n",
       "1                      budget       487         90.256102\n",
       "2                aspect_ratio       327         93.457383\n",
       "3              content_rating       301         93.977591\n",
       "4               plot_keywords       152         96.958784\n",
       "5                  title_year       107         97.859144\n",
       "6               director_name       103         97.939176\n",
       "7     director_facebook_likes       103         97.939176\n",
       "8      num_critic_for_reviews        49         99.019608\n",
       "9      actor_3_facebook_likes        23         99.539816\n",
       "10               actor_3_name        23         99.539816\n",
       "11       num_user_for_reviews        21         99.579832\n",
       "12                      color        19         99.619848\n",
       "13                   duration        15         99.699880\n",
       "14       facenumber_in_poster        13         99.739896\n",
       "15               actor_2_name        13         99.739896\n",
       "16     actor_2_facebook_likes        13         99.739896\n",
       "17                   language        12         99.759904\n",
       "18     actor_1_facebook_likes         7         99.859944\n",
       "19               actor_1_name         7         99.859944\n",
       "20                    country         5         99.899960\n",
       "21                 imdb_score         0        100.000000\n",
       "22  cast_total_facebook_likes         0        100.000000\n",
       "23            num_voted_users         0        100.000000\n",
       "24                movie_title         0        100.000000\n",
       "25                     genres         0        100.000000\n",
       "26            movie_imdb_link         0        100.000000\n",
       "27       movie_facebook_likes         0        100.000000"
      ]
     },
     "execution_count": 229,
     "metadata": {},
     "output_type": "execute_result"
    }
   ],
   "source": [
    "manquant_df = movies.isnull().sum(axis=0).reset_index()\n",
    "manquant_df.columns = ['colonne', 'manquant']\n",
    "manquant_df['taux_remplissage'] = (movies.shape[0] - manquant_df['manquant']) / movies.shape[0] * 100\n",
    "manquant_df.sort_values('taux_remplissage').reset_index(drop = True)"
   ]
  },
  {
   "cell_type": "code",
   "execution_count": 231,
   "metadata": {},
   "outputs": [
    {
     "data": {
      "image/png": "[encoded data removed]",
      "text/plain": [
       "<matplotlib.figure.Figure at 0x1cec0f28>"
      ]
     },
     "metadata": {},
     "output_type": "display_data"
    }
   ],
   "source": [
    "import seaborn as sns\n",
    "tmp=pd.DataFrame()\n",
    "tmp['col']=list(manquant_df['colonne'])\n",
    "tmp['fill_ratio']=list(manquant_df['taux_remplissage'])\n",
    "tmp.sort_values(by='fill_ratio',inplace=True)\n",
    "plt.figure(figsize=(10,3))\n",
    "sns.stripplot(x='col', y='fill_ratio', data=tmp)\n",
    "plt.axhline(y=0.3)\n",
    "plt.xticks([])\n",
    "plt.xlabel('Colonnes')\n",
    "plt.ylabel('Taux de remplissage')\n",
    "plt.title('Taux de remplissage des colonnes')\n",
    "plt.show()"
   ]
  },
  {
   "cell_type": "markdown",
   "metadata": {},
   "source": [
    "# Construction de la distance"
   ]
  },
  {
   "cell_type": "markdown",
   "metadata": {},
   "source": [
    "Le moteur doit recommander 5 films similaires...  \n",
    "Dans mon cas, que veut dire deux films similaires ?  \n",
    "Si je dispose de  deux films « similaires de la même manière » à celui fourni par l’utilisateur, alors quel film doit « **prioriser** » le moteur ?  \n",
    "\n",
    "Il en résulte, que l'on doit pouvoir :  \n",
    "- Quantifier la **similarité** entre les films\n",
    "- Et - à une ressemblance égale -  **prioriser**  si l’on veut.  \n",
    "\n",
    "Dans la suite, je vais :\n",
    "- Définir une  **distance mathématique normée** (*comprise entre 0 et 1*) entre deux films, cela répond au premier  \n",
    "besoin, dans la mesure où si **d** est une telle distance, la similarité entre deux films, f1, f2 peut se mesurer  \n",
    "par la quantité ***1 -  d (f1, f2)***  \n",
    "La distance augmente quand la similarité diminue et inversement.\n",
    "- Modéliser la notion de **popularité** pour répondre au deuxième point. Le moteur peut ainsi – *à distance égale*  \n",
    "par rapport à un film F - recommander le film le plus **populaire** .\n",
    "\n",
    "Les gens préfèrent-t-ils des films selon le genre ? les acteurs ? la période ? Où bien en se basant sur une  \n",
    "ressemblance (présumée) dans l’histoire via les mots clés … ?\n",
    "\n",
    "En conséquence, pour définir la distance, je vais devoir faire un choix – forcement subjectif - :  \n",
    "Je ne considère que les champs relatifs aux : acteurs, réalisateur, genres, mots clés, période de production (plages de 5 années) et pays.  \n",
    "\n",
    "La totalité de ces variables étant **qualitatives**, il m'a semblé peu pratique d'opter pour une distance euclidienne !\n",
    "\n",
    "(D’autres variables, notament **quantitatives**, seront utilisés dans la suite pour modéliser la notion de popularité)\n",
    "\n",
    "La [distance de Hamming](https://fr.wikipedia.org/wiki/Distance_de_Hamming), sert à quantifier la différence (et par conséquence la similarité !) entre deux objets, représentés chacun par une séquence finie de **N** symboles (*un **vecteur** de taille N*)  \n",
    "Elle mesure cette différence en se basant sur le nombre de symboles **non-concordants**.\n",
    "\n",
    "Cette distance est fournie dans **sklearn** (la fonction [Hamming_loss](http://scikit-learn.org/stable/modules/generated/sklearn.metrics.hamming_loss.html) dans le module **sklearn.metrics**), mais pour  \n",
    "simplifier l’explication ci-dessous, je considère une distance de Hamming normée au sens général, je détaillerai plus tard  les adaptations faites, dues  à l’implémentation dans sklearn. \n",
    "\n",
    "La distance entre deux objets  ayant ***n*** points en commun sera donc égale à  ***1 – (n / N)***\n",
    "\n",
    "\n",
    "Dans le data set, il y’a 26 « genres » différents, et chaque film peut avoir au maximum 5 mots clés associés, mais  \n",
    "pour les mêmes raisons de simplicité déjà évoqués, dans l'exemple « artificiel » ci-dessous, je considère 4 genres et 3 mots clés.\n",
    "\n",
    "| acteur 1 | acteur 2 | acteur 3 | réalisateur | horreur | action | comedie | amour | mot clé 1 | mot clé 2 | mot clé 3 | période | pays |\n",
    "|----------|----------|----------|-------------|---------|--------|---------|-------|-----------|-----------|-----------|---------|------|\n",
    "| Tom      | Peter    | Emma     | Mark        |         | 1      |         | 1     | amour     | crime     |           | 5       | France  |\n",
    "| Chris    | Tom      | Tony     | Mark        |         | 1      |         |      | crime     | espion    |  prison      | 10      | France  |\n",
    "Les deux films ne coïncident (point par point) que sur trois points (réalisateur, genre action et pays) et  la distance de Hamming les séparant est  \n",
    "1 – 3/13 = 0 .769 \n",
    "\n",
    "Bien que, la distance de Hamming convient bien aux variables relatives aux genres, période et pays :  \n",
    "- Elle ne convient pas pour mesurer la distance apportée par les mots clés des deux films.   \n",
    "- Elle ne « capte » pas **entièrement** la similarité apportée par les variables acteur 1, acteur 2 et acteur 3 dans la mesure où  elle ne tient pas compte du fait que « Tom » joue le premier rôle dans le film 1 et le deuxième rôle dans le film 2.   \n",
    "- Toutes les variables sont considérées avec la même importance, or je souhaite qu’une coïncidence dans la variable acteur 1  apporte le double de similarité qu’une coïncidence dans la variable 2, et 3 fois la similarité par laquelle contribue la coïncidence en un mot clé.\n",
    "\n",
    "En utilisant la distance de **Hamming**, on peut remédier assez facilement au dernier point, en effet, il suffit de **dupliquer n fois** le même champ pour lui attribuer **n fois l’importance** accordée aux autres.\n",
    "\n",
    "\n",
    "Par ailleurs, la [**distance de Jaccard**](https://fr.wikipedia.org/wiki/Indice_et_distance_de_Jaccard) se prête bien pour mesurer la distance entre les sous-vecteurs représentant uniquement les 3 mots clés extraits des films F1 et F2.  \n",
    "\n",
    "Cette distance est donnée par le complément à 1 de **l’indice de Jaccard** qui est le rapport entre le cardinal (la taille) de **l'intersection** des deux vecteurs (considérés comme ensembles) et le cardinal de **l'union**.\n",
    "***DJ(v, u) = 1 – [card(u Inter v) / card(u Union v) ]***\n",
    "\n",
    "\n",
    "Représenter les genres de la manière ci-dessous et ne considérer que la distance de Jaccard pourrait sembler résoudre le problème :\n",
    "\n",
    "| acteur 1 | acteur 2 | acteur 3 | réalisateur | genre 1 | genre 2 | genre 3 | genre 4 | mot clé 1 | mot clé 2 | mot clé 3 | période | pays |\n",
    "|----------|----------|----------|-------------|---------|---------|---------|---------|-----------|-----------|-----------|---------|------|\n",
    "| Tom      | Peter    | Emma     | Mark        | action  | amour   |         |         | amour     | crime     |           | 5       | France  |\n",
    "| Chris    | Tom      | Tony     | Mark        |         |         | action  |         | crime     | espion    |           | 10      | France  |\n",
    "\n",
    "Il n’y pas de risque d’induire en erreur le calcul de la distance de Jaccard, à cause d’une coïncidence fortuite entre le nom d’un acteur et un mot clé par exemple, comme c’est le cas  ici entre genre et mot clé \"amour\".  \n",
    "Ce risque est éliminé dans le procédé préalable qui consiste à codifier numériquement l’ensemble des données et qui attribue à la chaine « tom » représentant un acteur un symbole numérique diffèrent que celui attribué à la même chaine « tom » représentant un mot clé …  \n",
    "\n",
    "Idem, pour les valeurs absentes (none), chacune de ces valeurs, va être codifiée par un symbole numérique **diffèrent de tous les autres**, cela donc ne pose aucun problème ni pour la distance de Jaccard, ni pour celle de Hamming.\n",
    "\n",
    "Mais un problème - qui ne se posait pas avec la distance de Hamming -  survient:  \n",
    "Je ne capte plus la coïncidence dans le rang des personnes, notament l'acteur principal et le réalisateur, ce qui est fort gênant de par mon hypothèse initiale qui considèrait que deux films ayant le même acteur principal et/ou le même réalisateur doivent être très similaires (gardons, à l’esprit que similaires ici  est au sens « plaisent presque au même degré, tous les deux, à notre utilisateur » plutôt que similaire au sens usuel ! )\n",
    "\n",
    "Etant donné que **la somme de deux distances mathématiques** est aussi une distance, j’ai eu l’idée de définir ma distance comme suit :\n",
    "\n",
    "**film1** = (<span style=\"color:red\">Tom</span>, Peter, Emma, <span style=\"color:red\">Mark</span>, <span style=\"color:red\">action</span>, amour,  none,  none, amour, <span style=\"color:red\">crime</span>, none, 5, <span style=\"color:red\">France</span>)  \n",
    "      = (<span style=\"color:red\">1</span>    , 2    ,3    , <span style=\"color:red\">4</span> , <span style=\"color:red\">11</span>    , 12   , 348899, 438477, 35, <span style=\"color:red\">36</span>, 32997, 401, <span style=\"color:red\">501</span>)\n",
    "      \n",
    "**film2** = (Chris, <span style=\"color:red\">Tom</span>, Tony, <span style=\"color:red\">Mark</span>, none, none, <span style=\"color:red\">action</span>, none, <span style=\"color:red\">crime</span>, espion, none, 10, <span style=\"color:red\">France</span>)  \n",
    "      = (5    , <span style=\"color:red\">1</span>    ,6    , <span style=\"color:red\">4</span>  , 117766, 77876 , <span style=\"color:red\">11</span>, 558476, <span style=\"color:red\">36</span>, 37, 66397, 406, <span style=\"color:red\">501</span>)  \n",
    "\n",
    "**d**(film1, film2) = **Jaccard**(film1, film2) + **Hamming**((<span style=\"color:red\">Tom</span>, Peter, Emma, <span style=\"color:red\">Mark</span>), (Chris, <span style=\"color:red\">Tom</span>, Tony, <span style=\"color:red\">Mark</span>))  \n",
    "\n",
    "= [1 - |inter| / |union|] + [1 - nbCoincidences / nbValeurs]  \n",
    "= (1 - (5/21)) + (1 - 1/4)\n",
    "= 1.261\n",
    "\n",
    "Peu importe si cette distance n’est pas normée, mais combien même qu’elle « capte » l’ensemble de la similarité que je souhaite considérer, un problème persiste :  \n",
    "Comment faire pour attribuer un poids important au fait que l’acteur principale est le même dans les deux films (idem pour les réalisateurs) ?  \n",
    "De sorte que :  \n",
    "\n",
    "Un film f1 est aussi proche d’un film f2 avec qui, il ne partage que le réalisateur, qu’un autre film f3 avec qui, il ne partage que 2 genres !\n",
    "\n",
    "La complexité provient du fait que la première partie est « captée » par la distance Hamming tandis que la seconde est « captée » par la distance de Jaccard.  \n",
    "Si l’on souhaite pondérer  la somme comme ceci D = p x Jaccard + q x Hamming   de sorte à satisfaire notre contrainte, le rapport p/q n’est pas  fixe, et il  dépend du nombre de similarités considéré.\n",
    "\n",
    "**Voici finalement la solution de distance que j’ai retenue :**\n",
    "\n",
    "Comme je l’ai déjà évoqué, avec la distance de **Hamming**, il suffit de **dupliquer** une composante dans le vecteur des valeurs pour lui attribuer davantage de **poids**.\n",
    "\n",
    "Pour calculer la distance **d(film1, film2)**, j’applique alors **seulement** la distance de **Hamming**, mais pas directement sur film1 et film2 mais plutôt sur **film1’** et **film2’** **construits *à la volée*** comme suit :\n",
    "\n",
    "Je voulais donc capter l’ensemble de la similarité souhaitée, en utilisant uniquement la distance de Hamming, il a fallu alors  \n",
    "« *me débarasser* » **sans perte de similarité** de la partie Jaccard dans ma construction de distance  \n",
    "\n",
    "** d = hamming + jaccard ** \n",
    "\n",
    "Pour illustrer l’idée sur laquelle s'est reposée ma construction de distance considérons  \n",
    "U = (‘crime’, ‘guerre’, ‘moto’, ‘avion’) ,  \n",
    "V = (‘amour’, ‘avion’, ‘crime’, ‘table’) deux sous-vecteurs quelconques de mots clés.  \n",
    "\n",
    "La similarité que je souhaite capter entre u et v se résume complètement dans le nombre de valeurs communes entre les composantes (v1,…v4) et (u1, …u4) peu importe l’ordre (ici 2 ‘crime’ et ‘avion’).  \n",
    "\n",
    "La distance de jaccard –comme déjà dit- répond parfaitement à ce besoin, mais on peut également capter **la totalité de cette similarité**, en appliquant la distance de **Hamming**, non pas sur U et V mais sur **U’** et **V’** deux vecteurs *éphémères* construits *à la volée* comme suit :  \n",
    "\n",
    "**U'**= (1, 1, 1, 1) et **V’** = (1,1, 0,0)  \n",
    "\n",
    "c’est-à-dire entre un premier vecteur (de la **même taille** que U et V) dont toutes les composantes sont égales à **1**  \n",
    "et un second vecteur dont toutes les composantes sont égales à **0** , **excepté** i composantes qui valent **1**, i étant le cardinal de l’**intersection** de U et V.  \n",
    "\n",
    "Bien entendu, **Jaccard(U,V) <> Hamming(U’,V’)**, mais cette construction de (U’ , V’) depuis (U, V) assure que pour tout U, V, W trois vecteurs quelconques,\n",
    "Si Jaccard(U,V) < Jaccard(U, W) alors Hamming(U’,V’) < Hamming(U’,W’), autrement dit, si W est plus loin de U que V au sens de Jaccard, **W’** est plus loin de ***U’** que **V’**  au sens de Hamming.\n",
    "\n",
    "\n",
    "Il en résulte que ma distance **d**, appliquée à (u,v) est égale à :  **D(u,v) = Hamming(u’, v’)**    \n",
    "appelons ce mecanisme permettant de générer **(U', V')** depuis **(U,V)** , <span style=\"color:green\">mécanisme de passage Jaccard vers Hamming<span>.\n",
    "\n",
    "Et plus globalement, \n",
    "\n",
    "**Etape 1**: Je commence par modéliser les films comme suit :\n",
    "\n",
    "Un film F est modélisé par un vecteur, et peut être considéré comme la **concaténation des sous-vecteurs** suivant : \n",
    "\n",
    "**F = ( A , K , T )**\n",
    " \n",
    " - **A** :(*acteurs*) sous vecteur de taille **3** contenant **dans l’ordre** l’acteur 1, acteur 2, acteur 3 **codifiés numériquement** (code numérique **unique** si none)\n",
    " - **K** : (*keyswords*) sous vecteur de taille **5** contenant les **codes numériques** correspondants aux **5 mots clé** que peut avoir F au **maximum** (un code numérique **unique** si none)\n",
    " - **T** : (*auTres*) sous vecteur de taille **30**  contenant :\n",
    "    - **26** codes numériques correspondant au **26 genres possibles** que peut avoir F dans **un ordre bien précis et établie au préalable**, si le genre est présent pour F, nous mettons la valeur **1** sinon, un code numérique **unique** (pour remplacer none).\n",
    "    - **1** code numérique correspondant à l’**acteur 1**  (code numérique **unique** si none)\n",
    "    - **1** code numérique correspondant au **réalisateur**  (code numérique **unique** si none)\n",
    "    - **1** code numérique correspondant au **pays**  (code numérique **unique** si none)\n",
    "    - **1** code numérique correspondant à la **période** (code numérique **unique** si none)\n",
    "\n",
    "\n",
    "(Entendre par « code numérique » simplement un nombre, j’ai préféré employer le mot code pour suggérer qu’il ne s’agit qu’une codification numérique des objets et que l’arithmétique sur ces codes n’aurait aucun sens …, par ailleurs, un code unique  et un nombre garanti différent de tous les autres précédemment générés  par le mécanisme de codification (la fonction python))\n",
    "\n",
    "**Etape 2**: Définition de la distance **d**\n",
    "\n",
    "Soient F1, F2 deux films modélisés comme décrit dans l’étape 1, alors:  \n",
    "\n",
    "**d(F1, F2)** = d ((A1 , K1, T1), (A2 , K2, T2))  \n",
    "\n",
    "qui peut être capté par une somme  **Jaccard (A1, A2) + Jaccard (K1, K2) + Hamming (T1, T2)**  \n",
    "\n",
    "ou plutôt la somme   **Hamming (**A1’**, **A2’**) + Hamming (**K1’**, **K2’**) + Hamming (T1, T2)**  \n",
    "\n",
    "<h3 style=\"color:green\">**d(F1, F2)  = Hamming ((A1’ , K1’, T1), (A2’ , K2’, T2))**</h3> \n",
    "\n",
    "Où **A1’** et **K’1** sont construits à la volée depuis A1 et K1 par le procédé dit de passage décrit dans le paragraphe précédent. \n",
    "\n",
    "\n",
    "**Quelques remarques concernant la distance d :**  \n",
    "\n",
    "Par construction :  \n",
    "\n",
    "**d** est normée comprise entre 0 et 1  \n",
    "**d** prend ces valeurs dans l’ensemble discret **{0, 1/40, 2/40 , 3/40 ….39/40, 1}**  \n",
    "**d** répond à mes hypothèses initiales :  \n",
    " - Elle capte similarité du à la présence d’un acteur commun entre les deux films peu import sa place (grâce à la partie Jaccard(A1, A2)) \n",
    " - Elle capte la similarité dû au fait d’avoir l’acteur principale ou le réalisateur de commun (grâce à Hamming (T1, T2)\n",
    " - Elle capte la contribution de similarité des mots clés (grâce à Jaccard (K1, K2))\n",
    " - Elle capte la similarité dû aux genres, pays et période (grâce à Hamming (T1, T2))\n",
    " - Elle peut attribuer facilement des poids differents (en dupliquant les variables) car elle est ramenée finalement  \n",
    " à une distance de Hamming.\n",
    "\n"
   ]
  },
  {
   "cell_type": "markdown",
   "metadata": {},
   "source": [
    "# Codification de la donnée"
   ]
  },
  {
   "cell_type": "markdown",
   "metadata": {},
   "source": [
    "**Personnes**"
   ]
  },
  {
   "cell_type": "code",
   "execution_count": 6,
   "metadata": {
    "scrolled": true
   },
   "outputs": [
    {
     "name": "stdout",
     "output_type": "stream",
     "text": [
      "8491  personnes entre acteurs et réalisateurs\n",
      "Morgan Freeman est associé au symbole : 10097\n"
     ]
    }
   ],
   "source": [
    "persons = dict((name.lower(), gen_symbole()) \n",
    "        for name in  (movies['actor_1_name'])\n",
    "               .append(movies['actor_2_name'])\n",
    "               .append(movies['actor_3_name'])\n",
    "               .append(movies['director_name'])\n",
    "               if name and (name == name)) # la condition est pour écarter la chaine vide et le nan\n",
    "\n",
    "print(len(persons), \" personnes entre acteurs et réalisateurs\")\n",
    "print('Morgan Freeman est associé au symbole :', persons['morgan freeman'])"
   ]
  },
  {
   "cell_type": "markdown",
   "metadata": {},
   "source": [
    "**Genres**"
   ]
  },
  {
   "cell_type": "code",
   "execution_count": 7,
   "metadata": {
    "scrolled": true
   },
   "outputs": [
    {
     "name": "stdout",
     "output_type": "stream",
     "text": [
      "26 genres différents\n"
     ]
    }
   ],
   "source": [
    "genres = set([x for y in movies['genres'] for x in y.split('|')])\n",
    "print(len(genres), \"genres différents\")"
   ]
  },
  {
   "cell_type": "markdown",
   "metadata": {},
   "source": [
    "**Mots clés**"
   ]
  },
  {
   "cell_type": "code",
   "execution_count": 8,
   "metadata": {},
   "outputs": [
    {
     "name": "stdout",
     "output_type": "stream",
     "text": [
      "8087  keywords différents\n",
      "Freedom est associé au symbole : 40883\n"
     ]
    }
   ],
   "source": [
    "keywords = dict((str(word).lower(), gen_symbole()) \n",
    "                for word in [x for y in movies['plot_keywords'] for x in str(y).split('|')] \n",
    "                if word and word == word) # la condition est pour écarter la chaine vide et le nan\n",
    "\n",
    "print(len(keywords), \" keywords différents\")\n",
    "print('Freedom est associé au symbole :', keywords['freedom'])"
   ]
  },
  {
   "cell_type": "markdown",
   "metadata": {},
   "source": [
    "**Pays**"
   ]
  },
  {
   "cell_type": "code",
   "execution_count": 9,
   "metadata": {
    "scrolled": true
   },
   "outputs": [
    {
     "name": "stdout",
     "output_type": "stream",
     "text": [
      "65  pays différents\n",
      "France est associé au symbole : 48857\n"
     ]
    }
   ],
   "source": [
    "countries = dict((country.lower(), gen_symbole()) \n",
    "                 for country in movies['country'] \n",
    "                 if country and country == country) # la condition est pour écarter la chaine vide et le nan\n",
    "\n",
    "print(len(countries), \" pays différents\")\n",
    "print('France est associé au symbole :', countries['france'])"
   ]
  },
  {
   "cell_type": "markdown",
   "metadata": {},
   "source": [
    "**Périodes**"
   ]
  },
  {
   "cell_type": "code",
   "execution_count": 10,
   "metadata": {
    "scrolled": true
   },
   "outputs": [
    {
     "name": "stdout",
     "output_type": "stream",
     "text": [
      "1989 est dans la période : 18\n"
     ]
    }
   ],
   "source": [
    "## définition de 24 periodes de 5 ans (de 1900 à 2018)\n",
    "def period(year):\n",
    "    if (not year) or (year != year) or (year < 1900): # si vide ou nan ou < 1900\n",
    "        return gen_symbole() # on retourne un symbole unique \n",
    "    return 1 + int((year - 1900) //5) # j'affecte un numéro  de 1 à 24\n",
    "print(\"1989 est dans la période :\", period(1989))"
   ]
  },
  {
   "cell_type": "markdown",
   "metadata": {},
   "source": [
    "Fabrication de la nouvelle data frame avec la donnée codifiée"
   ]
  },
  {
   "cell_type": "code",
   "execution_count": 11,
   "metadata": {
    "scrolled": false
   },
   "outputs": [
    {
     "data": {
      "text/html": [
       "<div>\n",
       "<style>\n",
       "    .dataframe thead tr:only-child th {\n",
       "        text-align: right;\n",
       "    }\n",
       "\n",
       "    .dataframe thead th {\n",
       "        text-align: left;\n",
       "    }\n",
       "\n",
       "    .dataframe tbody tr th {\n",
       "        vertical-align: top;\n",
       "    }\n",
       "</style>\n",
       "<table border=\"1\" class=\"dataframe\">\n",
       "  <thead>\n",
       "    <tr style=\"text-align: right;\">\n",
       "      <th></th>\n",
       "      <th>keyword_1</th>\n",
       "      <th>keyword_2</th>\n",
       "      <th>keyword_3</th>\n",
       "      <th>keyword_4</th>\n",
       "      <th>keyword_5</th>\n",
       "      <th>actor_3_name</th>\n",
       "      <th>actor_2_name</th>\n",
       "      <th>actor_1_name</th>\n",
       "      <th>director_name</th>\n",
       "      <th>Action</th>\n",
       "      <th>Adventure</th>\n",
       "      <th>Animation</th>\n",
       "      <th>Biography</th>\n",
       "      <th>Comedy</th>\n",
       "      <th>Crime</th>\n",
       "      <th>Documentary</th>\n",
       "      <th>Drama</th>\n",
       "      <th>Family</th>\n",
       "      <th>Fantasy</th>\n",
       "      <th>Film-Noir</th>\n",
       "      <th>Game-Show</th>\n",
       "      <th>History</th>\n",
       "      <th>Horror</th>\n",
       "      <th>Music</th>\n",
       "      <th>Musical</th>\n",
       "      <th>Mystery</th>\n",
       "      <th>News</th>\n",
       "      <th>Reality-TV</th>\n",
       "      <th>Romance</th>\n",
       "      <th>Sci-Fi</th>\n",
       "      <th>Short</th>\n",
       "      <th>Sport</th>\n",
       "      <th>Thriller</th>\n",
       "      <th>War</th>\n",
       "      <th>Western</th>\n",
       "      <th>country</th>\n",
       "      <th>period</th>\n",
       "    </tr>\n",
       "  </thead>\n",
       "  <tbody>\n",
       "    <tr>\n",
       "      <th>0</th>\n",
       "      <td>43791</td>\n",
       "      <td>43221</td>\n",
       "      <td>41442</td>\n",
       "      <td>19851</td>\n",
       "      <td>19852</td>\n",
       "      <td>11663</td>\n",
       "      <td>14140</td>\n",
       "      <td>10768</td>\n",
       "      <td>18431</td>\n",
       "      <td>1</td>\n",
       "      <td>1</td>\n",
       "      <td>48874</td>\n",
       "      <td>48875</td>\n",
       "      <td>48876</td>\n",
       "      <td>48877</td>\n",
       "      <td>48878</td>\n",
       "      <td>48879</td>\n",
       "      <td>48880</td>\n",
       "      <td>1</td>\n",
       "      <td>48881</td>\n",
       "      <td>48882</td>\n",
       "      <td>48883</td>\n",
       "      <td>48884</td>\n",
       "      <td>48885</td>\n",
       "      <td>48886</td>\n",
       "      <td>48887</td>\n",
       "      <td>48888</td>\n",
       "      <td>48889</td>\n",
       "      <td>48890</td>\n",
       "      <td>1</td>\n",
       "      <td>48891</td>\n",
       "      <td>48892</td>\n",
       "      <td>48893</td>\n",
       "      <td>48894</td>\n",
       "      <td>48895</td>\n",
       "      <td>48873</td>\n",
       "      <td>22</td>\n",
       "    </tr>\n",
       "    <tr>\n",
       "      <th>1</th>\n",
       "      <td>23745</td>\n",
       "      <td>19854</td>\n",
       "      <td>43639</td>\n",
       "      <td>43835</td>\n",
       "      <td>35563</td>\n",
       "      <td>11173</td>\n",
       "      <td>10371</td>\n",
       "      <td>4319</td>\n",
       "      <td>17176</td>\n",
       "      <td>1</td>\n",
       "      <td>1</td>\n",
       "      <td>48896</td>\n",
       "      <td>48897</td>\n",
       "      <td>48898</td>\n",
       "      <td>48899</td>\n",
       "      <td>48900</td>\n",
       "      <td>48901</td>\n",
       "      <td>48902</td>\n",
       "      <td>1</td>\n",
       "      <td>48903</td>\n",
       "      <td>48904</td>\n",
       "      <td>48905</td>\n",
       "      <td>48906</td>\n",
       "      <td>48907</td>\n",
       "      <td>48908</td>\n",
       "      <td>48909</td>\n",
       "      <td>48910</td>\n",
       "      <td>48911</td>\n",
       "      <td>48912</td>\n",
       "      <td>48913</td>\n",
       "      <td>48914</td>\n",
       "      <td>48915</td>\n",
       "      <td>48916</td>\n",
       "      <td>48917</td>\n",
       "      <td>48918</td>\n",
       "      <td>48873</td>\n",
       "      <td>22</td>\n",
       "    </tr>\n",
       "    <tr>\n",
       "      <th>2</th>\n",
       "      <td>39139</td>\n",
       "      <td>36532</td>\n",
       "      <td>40768</td>\n",
       "      <td>38946</td>\n",
       "      <td>38461</td>\n",
       "      <td>9980</td>\n",
       "      <td>13437</td>\n",
       "      <td>10558</td>\n",
       "      <td>18351</td>\n",
       "      <td>1</td>\n",
       "      <td>1</td>\n",
       "      <td>48919</td>\n",
       "      <td>48920</td>\n",
       "      <td>48921</td>\n",
       "      <td>48922</td>\n",
       "      <td>48923</td>\n",
       "      <td>48924</td>\n",
       "      <td>48925</td>\n",
       "      <td>48926</td>\n",
       "      <td>48927</td>\n",
       "      <td>48928</td>\n",
       "      <td>48929</td>\n",
       "      <td>48930</td>\n",
       "      <td>48931</td>\n",
       "      <td>48932</td>\n",
       "      <td>48933</td>\n",
       "      <td>48934</td>\n",
       "      <td>48935</td>\n",
       "      <td>48936</td>\n",
       "      <td>48937</td>\n",
       "      <td>48938</td>\n",
       "      <td>48939</td>\n",
       "      <td>1</td>\n",
       "      <td>48940</td>\n",
       "      <td>48941</td>\n",
       "      <td>48838</td>\n",
       "      <td>24</td>\n",
       "    </tr>\n",
       "    <tr>\n",
       "      <th>3</th>\n",
       "      <td>34736</td>\n",
       "      <td>39839</td>\n",
       "      <td>19865</td>\n",
       "      <td>39987</td>\n",
       "      <td>41764</td>\n",
       "      <td>18523</td>\n",
       "      <td>9233</td>\n",
       "      <td>5171</td>\n",
       "      <td>18567</td>\n",
       "      <td>1</td>\n",
       "      <td>48942</td>\n",
       "      <td>48943</td>\n",
       "      <td>48944</td>\n",
       "      <td>48945</td>\n",
       "      <td>48946</td>\n",
       "      <td>48947</td>\n",
       "      <td>48948</td>\n",
       "      <td>48949</td>\n",
       "      <td>48950</td>\n",
       "      <td>48951</td>\n",
       "      <td>48952</td>\n",
       "      <td>48953</td>\n",
       "      <td>48954</td>\n",
       "      <td>48955</td>\n",
       "      <td>48956</td>\n",
       "      <td>48957</td>\n",
       "      <td>48958</td>\n",
       "      <td>48959</td>\n",
       "      <td>48960</td>\n",
       "      <td>48961</td>\n",
       "      <td>48962</td>\n",
       "      <td>48963</td>\n",
       "      <td>1</td>\n",
       "      <td>48964</td>\n",
       "      <td>48965</td>\n",
       "      <td>48873</td>\n",
       "      <td>23</td>\n",
       "    </tr>\n",
       "    <tr>\n",
       "      <th>4</th>\n",
       "      <td>43875</td>\n",
       "      <td>48992</td>\n",
       "      <td>48993</td>\n",
       "      <td>48994</td>\n",
       "      <td>48995</td>\n",
       "      <td>48966</td>\n",
       "      <td>4997</td>\n",
       "      <td>14957</td>\n",
       "      <td>14957</td>\n",
       "      <td>48967</td>\n",
       "      <td>48968</td>\n",
       "      <td>48969</td>\n",
       "      <td>48970</td>\n",
       "      <td>48971</td>\n",
       "      <td>48972</td>\n",
       "      <td>1</td>\n",
       "      <td>48973</td>\n",
       "      <td>48974</td>\n",
       "      <td>48975</td>\n",
       "      <td>48976</td>\n",
       "      <td>48977</td>\n",
       "      <td>48978</td>\n",
       "      <td>48979</td>\n",
       "      <td>48980</td>\n",
       "      <td>48981</td>\n",
       "      <td>48982</td>\n",
       "      <td>48983</td>\n",
       "      <td>48984</td>\n",
       "      <td>48985</td>\n",
       "      <td>48986</td>\n",
       "      <td>48987</td>\n",
       "      <td>48988</td>\n",
       "      <td>48989</td>\n",
       "      <td>48990</td>\n",
       "      <td>48991</td>\n",
       "      <td>48996</td>\n",
       "      <td>48997</td>\n",
       "    </tr>\n",
       "  </tbody>\n",
       "</table>\n",
       "</div>"
      ],
      "text/plain": [
       "   keyword_1  keyword_2  keyword_3  keyword_4  keyword_5  actor_3_name  \\\n",
       "0      43791      43221      41442      19851      19852         11663   \n",
       "1      23745      19854      43639      43835      35563         11173   \n",
       "2      39139      36532      40768      38946      38461          9980   \n",
       "3      34736      39839      19865      39987      41764         18523   \n",
       "4      43875      48992      48993      48994      48995         48966   \n",
       "\n",
       "   actor_2_name  actor_1_name  director_name  Action  Adventure  Animation  \\\n",
       "0         14140         10768          18431       1          1      48874   \n",
       "1         10371          4319          17176       1          1      48896   \n",
       "2         13437         10558          18351       1          1      48919   \n",
       "3          9233          5171          18567       1      48942      48943   \n",
       "4          4997         14957          14957   48967      48968      48969   \n",
       "\n",
       "   Biography  Comedy  Crime  Documentary  Drama  Family  Fantasy  Film-Noir  \\\n",
       "0      48875   48876  48877        48878  48879   48880        1      48881   \n",
       "1      48897   48898  48899        48900  48901   48902        1      48903   \n",
       "2      48920   48921  48922        48923  48924   48925    48926      48927   \n",
       "3      48944   48945  48946        48947  48948   48949    48950      48951   \n",
       "4      48970   48971  48972            1  48973   48974    48975      48976   \n",
       "\n",
       "   Game-Show  History  Horror  Music  Musical  Mystery   News  Reality-TV  \\\n",
       "0      48882    48883   48884  48885    48886    48887  48888       48889   \n",
       "1      48904    48905   48906  48907    48908    48909  48910       48911   \n",
       "2      48928    48929   48930  48931    48932    48933  48934       48935   \n",
       "3      48952    48953   48954  48955    48956    48957  48958       48959   \n",
       "4      48977    48978   48979  48980    48981    48982  48983       48984   \n",
       "\n",
       "   Romance  Sci-Fi  Short  Sport  Thriller    War  Western  country  period  \n",
       "0    48890       1  48891  48892     48893  48894    48895    48873      22  \n",
       "1    48912   48913  48914  48915     48916  48917    48918    48873      22  \n",
       "2    48936   48937  48938  48939         1  48940    48941    48838      24  \n",
       "3    48960   48961  48962  48963         1  48964    48965    48873      23  \n",
       "4    48985   48986  48987  48988     48989  48990    48991    48996   48997  "
      ]
     },
     "execution_count": 11,
     "metadata": {},
     "output_type": "execute_result"
    }
   ],
   "source": [
    "def append(list_, dict_, item):\n",
    "    if item =='' or item != item: # vide ou nan\n",
    "        return list_.append(gen_symbole())\n",
    "    elif type(item) == str:\n",
    "        item = item.lower()    \n",
    "    return list_.append(dict_[item])\n",
    "\n",
    "columns = [  \n",
    "    ## mots clés\n",
    "    {'name': 'keyword_1', 'weight': 1},\n",
    "    {'name': 'keyword_2', 'weight': 1},\n",
    "    {'name': 'keyword_3', 'weight': 1},\n",
    "    {'name': 'keyword_4', 'weight': 1}, \n",
    "    {'name': 'keyword_5', 'weight': 1},\n",
    "    ## acteurs et réalisateur\n",
    "    {'name': 'actor_3_name', 'weight': 1},\n",
    "    {'name': 'actor_2_name', 'weight': 1},\n",
    "    {'name': 'actor_1_name', 'weight':2},\n",
    "    {'name': 'director_name', 'weight': 2},\n",
    "    ## genre\n",
    "    {'name': 'Action', 'weight': 1},\n",
    "    {'name': 'Adventure', 'weight': 1},\n",
    "    {'name': 'Animation', 'weight': 1},\n",
    "    {'name': 'Biography', 'weight': 1},\n",
    "    {'name': 'Comedy', 'weight': 1},\n",
    "    {'name': 'Crime', 'weight': 1},\n",
    "    {'name': 'Documentary', 'weight': 1},\n",
    "    {'name': 'Drama', 'weight': 1},\n",
    "    {'name': 'Family', 'weight': 1},\n",
    "    {'name': 'Fantasy', 'weight': 1},\n",
    "    {'name': 'Film-Noir', 'weight': 1},\n",
    "    {'name': 'Game-Show', 'weight': 1},\n",
    "    {'name': 'History', 'weight': 1},\n",
    "    {'name': 'Horror', 'weight': 1},\n",
    "    {'name': 'Music', 'weight': 1},\n",
    "    {'name': 'Musical', 'weight': 1},\n",
    "    {'name': 'Mystery', 'weight': 1},\n",
    "    {'name': 'News', 'weight': 1},\n",
    "    {'name': 'Reality-TV', 'weight': 1},\n",
    "    {'name': 'Romance', 'weight': 1},\n",
    "    {'name': 'Sci-Fi', 'weight': 1},\n",
    "    {'name': 'Short', 'weight': 1},\n",
    "    {'name': 'Sport', 'weight': 1},\n",
    "    {'name': 'Thriller', 'weight': 1},\n",
    "    {'name': 'War', 'weight': 1},\n",
    "    {'name': 'Western', 'weight': 1},\n",
    "    ## pays\n",
    "    {'name': 'country', 'weight': 1},\n",
    "    ## period\n",
    "    {'name': 'period', 'weight': 1}\n",
    "    ## autres !!\n",
    "]\n",
    "\n",
    "d = {col['name']:[] for col in columns}\n",
    "\n",
    "for (index, row) in movies.iterrows():\n",
    "    \n",
    "    for c in ['director_name', 'actor_1_name', 'actor_2_name', 'actor_3_name']:\n",
    "        append(d[c], persons, row[c])\n",
    "        \n",
    "    for g in ['Action', 'Adventure', 'Animation', 'Biography', 'Comedy', 'Crime', 'Documentary', 'Drama', 'Family', 'Fantasy', 'Film-Noir', 'Game-Show', 'History', 'Horror', 'Music', 'Musical', 'Mystery', 'News', 'Reality-TV', 'Romance', 'Sci-Fi', 'Short', 'Sport', 'Thriller', 'War', 'Western']:\n",
    "        d[g].append(1 if g.lower() in row['genres'].lower() else gen_symbole())\n",
    "        \n",
    "    k = str(row['plot_keywords']).lower().split('|')\n",
    "    for i, c in enumerate(['keyword_1','keyword_2','keyword_3','keyword_4','keyword_5']):\n",
    "        append(d[c], keywords, k[i] if i < len(k) else '')\n",
    "        \n",
    "    append(d['country'], countries, row['country'])\n",
    "    d['period'].append(period(row['title_year']))\n",
    "        \n",
    "codified_movies = pd.DataFrame(data=d)\n",
    "codified_movies = codified_movies[list(d.keys())] # juste pour forcer l'ordre des colonne comme celui dans d.\n",
    "codified_movies.head()"
   ]
  },
  {
   "cell_type": "code",
   "execution_count": 12,
   "metadata": {},
   "outputs": [
    {
     "data": {
      "text/plain": [
       "4997"
      ]
     },
     "execution_count": 12,
     "metadata": {},
     "output_type": "execute_result"
    }
   ],
   "source": [
    "persons[(movies['actor_2_name'][4]).lower()]"
   ]
  },
  {
   "cell_type": "markdown",
   "metadata": {},
   "source": [
    "Dupliquer selon le \"poids\" prédéfini les colonnes dans la nouvelle data frame"
   ]
  },
  {
   "cell_type": "code",
   "execution_count": 13,
   "metadata": {
    "collapsed": true
   },
   "outputs": [],
   "source": [
    "def duplicate_column(df, col_name, w):\n",
    "    if w <= 1:\n",
    "        return\n",
    "    for i in range(w-1):\n",
    "        df[col_name+'__'+str(i+2)+'__'] = df[col_name]\n",
    "        \n",
    "def attribute_weights():\n",
    "    for col in columns:\n",
    "        duplicate_column(codified_movies, col['name'], col['weight'])\n",
    "\n",
    "attribute_weights()"
   ]
  },
  {
   "cell_type": "code",
   "execution_count": 14,
   "metadata": {
    "scrolled": true
   },
   "outputs": [
    {
     "data": {
      "text/html": [
       "<div>\n",
       "<style>\n",
       "    .dataframe thead tr:only-child th {\n",
       "        text-align: right;\n",
       "    }\n",
       "\n",
       "    .dataframe thead th {\n",
       "        text-align: left;\n",
       "    }\n",
       "\n",
       "    .dataframe tbody tr th {\n",
       "        vertical-align: top;\n",
       "    }\n",
       "</style>\n",
       "<table border=\"1\" class=\"dataframe\">\n",
       "  <thead>\n",
       "    <tr style=\"text-align: right;\">\n",
       "      <th></th>\n",
       "      <th>keyword_1</th>\n",
       "      <th>keyword_2</th>\n",
       "      <th>keyword_3</th>\n",
       "      <th>keyword_4</th>\n",
       "      <th>keyword_5</th>\n",
       "      <th>actor_3_name</th>\n",
       "      <th>actor_2_name</th>\n",
       "      <th>actor_1_name</th>\n",
       "      <th>director_name</th>\n",
       "      <th>Action</th>\n",
       "      <th>Adventure</th>\n",
       "      <th>Animation</th>\n",
       "      <th>Biography</th>\n",
       "      <th>Comedy</th>\n",
       "      <th>Crime</th>\n",
       "      <th>Documentary</th>\n",
       "      <th>Drama</th>\n",
       "      <th>Family</th>\n",
       "      <th>Fantasy</th>\n",
       "      <th>Film-Noir</th>\n",
       "      <th>Game-Show</th>\n",
       "      <th>History</th>\n",
       "      <th>Horror</th>\n",
       "      <th>Music</th>\n",
       "      <th>Musical</th>\n",
       "      <th>Mystery</th>\n",
       "      <th>News</th>\n",
       "      <th>Reality-TV</th>\n",
       "      <th>Romance</th>\n",
       "      <th>Sci-Fi</th>\n",
       "      <th>Short</th>\n",
       "      <th>Sport</th>\n",
       "      <th>Thriller</th>\n",
       "      <th>War</th>\n",
       "      <th>Western</th>\n",
       "      <th>country</th>\n",
       "      <th>period</th>\n",
       "      <th>actor_1_name__2__</th>\n",
       "      <th>director_name__2__</th>\n",
       "    </tr>\n",
       "  </thead>\n",
       "  <tbody>\n",
       "    <tr>\n",
       "      <th>0</th>\n",
       "      <td>43791</td>\n",
       "      <td>43221</td>\n",
       "      <td>41442</td>\n",
       "      <td>19851</td>\n",
       "      <td>19852</td>\n",
       "      <td>11663</td>\n",
       "      <td>14140</td>\n",
       "      <td>10768</td>\n",
       "      <td>18431</td>\n",
       "      <td>1</td>\n",
       "      <td>1</td>\n",
       "      <td>48874</td>\n",
       "      <td>48875</td>\n",
       "      <td>48876</td>\n",
       "      <td>48877</td>\n",
       "      <td>48878</td>\n",
       "      <td>48879</td>\n",
       "      <td>48880</td>\n",
       "      <td>1</td>\n",
       "      <td>48881</td>\n",
       "      <td>48882</td>\n",
       "      <td>48883</td>\n",
       "      <td>48884</td>\n",
       "      <td>48885</td>\n",
       "      <td>48886</td>\n",
       "      <td>48887</td>\n",
       "      <td>48888</td>\n",
       "      <td>48889</td>\n",
       "      <td>48890</td>\n",
       "      <td>1</td>\n",
       "      <td>48891</td>\n",
       "      <td>48892</td>\n",
       "      <td>48893</td>\n",
       "      <td>48894</td>\n",
       "      <td>48895</td>\n",
       "      <td>48873</td>\n",
       "      <td>22</td>\n",
       "      <td>10768</td>\n",
       "      <td>18431</td>\n",
       "    </tr>\n",
       "    <tr>\n",
       "      <th>1</th>\n",
       "      <td>23745</td>\n",
       "      <td>19854</td>\n",
       "      <td>43639</td>\n",
       "      <td>43835</td>\n",
       "      <td>35563</td>\n",
       "      <td>11173</td>\n",
       "      <td>10371</td>\n",
       "      <td>4319</td>\n",
       "      <td>17176</td>\n",
       "      <td>1</td>\n",
       "      <td>1</td>\n",
       "      <td>48896</td>\n",
       "      <td>48897</td>\n",
       "      <td>48898</td>\n",
       "      <td>48899</td>\n",
       "      <td>48900</td>\n",
       "      <td>48901</td>\n",
       "      <td>48902</td>\n",
       "      <td>1</td>\n",
       "      <td>48903</td>\n",
       "      <td>48904</td>\n",
       "      <td>48905</td>\n",
       "      <td>48906</td>\n",
       "      <td>48907</td>\n",
       "      <td>48908</td>\n",
       "      <td>48909</td>\n",
       "      <td>48910</td>\n",
       "      <td>48911</td>\n",
       "      <td>48912</td>\n",
       "      <td>48913</td>\n",
       "      <td>48914</td>\n",
       "      <td>48915</td>\n",
       "      <td>48916</td>\n",
       "      <td>48917</td>\n",
       "      <td>48918</td>\n",
       "      <td>48873</td>\n",
       "      <td>22</td>\n",
       "      <td>4319</td>\n",
       "      <td>17176</td>\n",
       "    </tr>\n",
       "    <tr>\n",
       "      <th>2</th>\n",
       "      <td>39139</td>\n",
       "      <td>36532</td>\n",
       "      <td>40768</td>\n",
       "      <td>38946</td>\n",
       "      <td>38461</td>\n",
       "      <td>9980</td>\n",
       "      <td>13437</td>\n",
       "      <td>10558</td>\n",
       "      <td>18351</td>\n",
       "      <td>1</td>\n",
       "      <td>1</td>\n",
       "      <td>48919</td>\n",
       "      <td>48920</td>\n",
       "      <td>48921</td>\n",
       "      <td>48922</td>\n",
       "      <td>48923</td>\n",
       "      <td>48924</td>\n",
       "      <td>48925</td>\n",
       "      <td>48926</td>\n",
       "      <td>48927</td>\n",
       "      <td>48928</td>\n",
       "      <td>48929</td>\n",
       "      <td>48930</td>\n",
       "      <td>48931</td>\n",
       "      <td>48932</td>\n",
       "      <td>48933</td>\n",
       "      <td>48934</td>\n",
       "      <td>48935</td>\n",
       "      <td>48936</td>\n",
       "      <td>48937</td>\n",
       "      <td>48938</td>\n",
       "      <td>48939</td>\n",
       "      <td>1</td>\n",
       "      <td>48940</td>\n",
       "      <td>48941</td>\n",
       "      <td>48838</td>\n",
       "      <td>24</td>\n",
       "      <td>10558</td>\n",
       "      <td>18351</td>\n",
       "    </tr>\n",
       "    <tr>\n",
       "      <th>3</th>\n",
       "      <td>34736</td>\n",
       "      <td>39839</td>\n",
       "      <td>19865</td>\n",
       "      <td>39987</td>\n",
       "      <td>41764</td>\n",
       "      <td>18523</td>\n",
       "      <td>9233</td>\n",
       "      <td>5171</td>\n",
       "      <td>18567</td>\n",
       "      <td>1</td>\n",
       "      <td>48942</td>\n",
       "      <td>48943</td>\n",
       "      <td>48944</td>\n",
       "      <td>48945</td>\n",
       "      <td>48946</td>\n",
       "      <td>48947</td>\n",
       "      <td>48948</td>\n",
       "      <td>48949</td>\n",
       "      <td>48950</td>\n",
       "      <td>48951</td>\n",
       "      <td>48952</td>\n",
       "      <td>48953</td>\n",
       "      <td>48954</td>\n",
       "      <td>48955</td>\n",
       "      <td>48956</td>\n",
       "      <td>48957</td>\n",
       "      <td>48958</td>\n",
       "      <td>48959</td>\n",
       "      <td>48960</td>\n",
       "      <td>48961</td>\n",
       "      <td>48962</td>\n",
       "      <td>48963</td>\n",
       "      <td>1</td>\n",
       "      <td>48964</td>\n",
       "      <td>48965</td>\n",
       "      <td>48873</td>\n",
       "      <td>23</td>\n",
       "      <td>5171</td>\n",
       "      <td>18567</td>\n",
       "    </tr>\n",
       "    <tr>\n",
       "      <th>4</th>\n",
       "      <td>43875</td>\n",
       "      <td>48992</td>\n",
       "      <td>48993</td>\n",
       "      <td>48994</td>\n",
       "      <td>48995</td>\n",
       "      <td>48966</td>\n",
       "      <td>4997</td>\n",
       "      <td>14957</td>\n",
       "      <td>14957</td>\n",
       "      <td>48967</td>\n",
       "      <td>48968</td>\n",
       "      <td>48969</td>\n",
       "      <td>48970</td>\n",
       "      <td>48971</td>\n",
       "      <td>48972</td>\n",
       "      <td>1</td>\n",
       "      <td>48973</td>\n",
       "      <td>48974</td>\n",
       "      <td>48975</td>\n",
       "      <td>48976</td>\n",
       "      <td>48977</td>\n",
       "      <td>48978</td>\n",
       "      <td>48979</td>\n",
       "      <td>48980</td>\n",
       "      <td>48981</td>\n",
       "      <td>48982</td>\n",
       "      <td>48983</td>\n",
       "      <td>48984</td>\n",
       "      <td>48985</td>\n",
       "      <td>48986</td>\n",
       "      <td>48987</td>\n",
       "      <td>48988</td>\n",
       "      <td>48989</td>\n",
       "      <td>48990</td>\n",
       "      <td>48991</td>\n",
       "      <td>48996</td>\n",
       "      <td>48997</td>\n",
       "      <td>14957</td>\n",
       "      <td>14957</td>\n",
       "    </tr>\n",
       "  </tbody>\n",
       "</table>\n",
       "</div>"
      ],
      "text/plain": [
       "   keyword_1  keyword_2  keyword_3  keyword_4  keyword_5  actor_3_name  \\\n",
       "0      43791      43221      41442      19851      19852         11663   \n",
       "1      23745      19854      43639      43835      35563         11173   \n",
       "2      39139      36532      40768      38946      38461          9980   \n",
       "3      34736      39839      19865      39987      41764         18523   \n",
       "4      43875      48992      48993      48994      48995         48966   \n",
       "\n",
       "   actor_2_name  actor_1_name  director_name  Action  Adventure  Animation  \\\n",
       "0         14140         10768          18431       1          1      48874   \n",
       "1         10371          4319          17176       1          1      48896   \n",
       "2         13437         10558          18351       1          1      48919   \n",
       "3          9233          5171          18567       1      48942      48943   \n",
       "4          4997         14957          14957   48967      48968      48969   \n",
       "\n",
       "   Biography  Comedy  Crime  Documentary  Drama  Family  Fantasy  Film-Noir  \\\n",
       "0      48875   48876  48877        48878  48879   48880        1      48881   \n",
       "1      48897   48898  48899        48900  48901   48902        1      48903   \n",
       "2      48920   48921  48922        48923  48924   48925    48926      48927   \n",
       "3      48944   48945  48946        48947  48948   48949    48950      48951   \n",
       "4      48970   48971  48972            1  48973   48974    48975      48976   \n",
       "\n",
       "   Game-Show  History  Horror  Music  Musical  Mystery   News  Reality-TV  \\\n",
       "0      48882    48883   48884  48885    48886    48887  48888       48889   \n",
       "1      48904    48905   48906  48907    48908    48909  48910       48911   \n",
       "2      48928    48929   48930  48931    48932    48933  48934       48935   \n",
       "3      48952    48953   48954  48955    48956    48957  48958       48959   \n",
       "4      48977    48978   48979  48980    48981    48982  48983       48984   \n",
       "\n",
       "   Romance  Sci-Fi  Short  Sport  Thriller    War  Western  country  period  \\\n",
       "0    48890       1  48891  48892     48893  48894    48895    48873      22   \n",
       "1    48912   48913  48914  48915     48916  48917    48918    48873      22   \n",
       "2    48936   48937  48938  48939         1  48940    48941    48838      24   \n",
       "3    48960   48961  48962  48963         1  48964    48965    48873      23   \n",
       "4    48985   48986  48987  48988     48989  48990    48991    48996   48997   \n",
       "\n",
       "   actor_1_name__2__  director_name__2__  \n",
       "0              10768               18431  \n",
       "1               4319               17176  \n",
       "2              10558               18351  \n",
       "3               5171               18567  \n",
       "4              14957               14957  "
      ]
     },
     "execution_count": 14,
     "metadata": {},
     "output_type": "execute_result"
    }
   ],
   "source": [
    "codified_movies.head()"
   ]
  },
  {
   "cell_type": "markdown",
   "metadata": {},
   "source": [
    "# Calcul de la matrice des distances"
   ]
  },
  {
   "cell_type": "code",
   "execution_count": 15,
   "metadata": {
    "collapsed": true
   },
   "outputs": [],
   "source": [
    "from sklearn.metrics import hamming_loss\n",
    "from sklearn.neighbors import DistanceMetric \n",
    "\n",
    "\n",
    "def handle_intersection(u,v): # u et v doivent avoir la meme tailles\n",
    "    intersection = set(u).intersection(set(v))\n",
    "    n = len(u)\n",
    "    return [\n",
    "        [1 for i in range(n)],\n",
    "        [1 if u[i] in intersection else 0 for i in range(n)]\n",
    "    ]\n",
    "\n",
    "\n",
    "def ham_distance(u,v):\n",
    "    keywords = handle_intersection(u[0:5:], v[0:5:])\n",
    "    actors = handle_intersection(u[5:8:], v[5:8:])\n",
    "    u = list(u)\n",
    "    v = list(v)\n",
    "    return hamming_loss(\n",
    "        keywords[0] + actors[0] + u[7::],\n",
    "        keywords[1] + actors[1] + v[7::]\n",
    "    )"
   ]
  },
  {
   "cell_type": "markdown",
   "metadata": {},
   "source": [
    "Calcul de la matrice des distances deux à deux"
   ]
  },
  {
   "cell_type": "code",
   "execution_count": 16,
   "metadata": {
    "collapsed": true,
    "scrolled": false
   },
   "outputs": [],
   "source": [
    "h_dist = DistanceMetric.get_metric('pyfunc', func=ham_distance)\n",
    "X = h_dist.pairwise(codified_movies.as_matrix())"
   ]
  },
  {
   "cell_type": "code",
   "execution_count": 18,
   "metadata": {
    "scrolled": true
   },
   "outputs": [
    {
     "name": "stdout",
     "output_type": "stream",
     "text": [
      "(4998, 4998)\n"
     ]
    },
    {
     "data": {
      "text/plain": [
       "array([[ 0.   ,  0.875,  0.95 , ...,  0.975,  0.975,  0.975],\n",
       "       [ 0.875,  0.   ,  0.95 , ...,  0.975,  0.975,  0.975],\n",
       "       [ 0.95 ,  0.95 ,  0.   , ...,  0.975,  1.   ,  1.   ],\n",
       "       ..., \n",
       "       [ 0.975,  0.975,  0.975, ...,  0.   ,  0.9  ,  0.975],\n",
       "       [ 0.975,  0.975,  1.   , ...,  0.9  ,  0.   ,  0.975],\n",
       "       [ 0.975,  0.975,  1.   , ...,  0.975,  0.975,  0.   ]])"
      ]
     },
     "execution_count": 18,
     "metadata": {},
     "output_type": "execute_result"
    }
   ],
   "source": [
    "print(X.shape)\n",
    "X"
   ]
  },
  {
   "cell_type": "markdown",
   "metadata": {},
   "source": [
    "# Test de la distance "
   ]
  },
  {
   "cell_type": "markdown",
   "metadata": {},
   "source": [
    "Je défini ici une fonction renvoyant les n films les plus proches et je vérifie sur le data set initial si la « similarité » est bien réelle, du moins la « similarité » avec les choix que j’avais mis en hypothèse."
   ]
  },
  {
   "cell_type": "code",
   "execution_count": 19,
   "metadata": {
    "collapsed": true
   },
   "outputs": [],
   "source": [
    "def dist_between(movie, other, distanceX = X): # renvoie la distance entre deux films quelconques\n",
    "    return distanceX.item((movie, other))\n",
    "\n",
    "# renvoi les n  films les plus similaires (dans l'ordre) au film passé en parametre idx_movie\n",
    "def nearest(idx_movie, n, distanceX = X): \n",
    "    max_dist = sorted(distanceX[idx_movie])[n:n+1:]\n",
    "    return sorted(\n",
    "        [(i, dist) for i, dist in enumerate(distanceX[idx_movie]) if dist <= max_dist and i != idx_movie],\n",
    "        key=lambda tup: tup[1]\n",
    "    )[0:n:]"
   ]
  },
  {
   "cell_type": "code",
   "execution_count": 20,
   "metadata": {
    "scrolled": true
   },
   "outputs": [
    {
     "data": {
      "text/plain": [
       "[(15, 0.75),\n",
       " (8, 0.82499999999999996),\n",
       " (27, 0.82499999999999996),\n",
       " (542, 0.82499999999999996),\n",
       " (65, 0.84999999999999998),\n",
       " (73, 0.84999999999999998),\n",
       " (245, 0.84999999999999998),\n",
       " (803, 0.84999999999999998)]"
      ]
     },
     "execution_count": 20,
     "metadata": {},
     "output_type": "execute_result"
    }
   ],
   "source": [
    "nearest(10, 5)"
   ]
  },
  {
   "cell_type": "code",
   "execution_count": 21,
   "metadata": {
    "scrolled": false
   },
   "outputs": [
    {
     "data": {
      "text/html": [
       "<div>\n",
       "<style>\n",
       "    .dataframe thead tr:only-child th {\n",
       "        text-align: right;\n",
       "    }\n",
       "\n",
       "    .dataframe thead th {\n",
       "        text-align: left;\n",
       "    }\n",
       "\n",
       "    .dataframe tbody tr th {\n",
       "        vertical-align: top;\n",
       "    }\n",
       "</style>\n",
       "<table border=\"1\" class=\"dataframe\">\n",
       "  <thead>\n",
       "    <tr style=\"text-align: right;\">\n",
       "      <th></th>\n",
       "      <th>10</th>\n",
       "      <th>15</th>\n",
       "    </tr>\n",
       "  </thead>\n",
       "  <tbody>\n",
       "    <tr>\n",
       "      <th>color</th>\n",
       "      <td>Color</td>\n",
       "      <td>Color</td>\n",
       "    </tr>\n",
       "    <tr>\n",
       "      <th>director_name</th>\n",
       "      <td>Zack Snyder</td>\n",
       "      <td>Zack Snyder</td>\n",
       "    </tr>\n",
       "    <tr>\n",
       "      <th>num_critic_for_reviews</th>\n",
       "      <td>673</td>\n",
       "      <td>733</td>\n",
       "    </tr>\n",
       "    <tr>\n",
       "      <th>duration</th>\n",
       "      <td>183</td>\n",
       "      <td>143</td>\n",
       "    </tr>\n",
       "    <tr>\n",
       "      <th>director_facebook_likes</th>\n",
       "      <td>0</td>\n",
       "      <td>0</td>\n",
       "    </tr>\n",
       "    <tr>\n",
       "      <th>actor_3_facebook_likes</th>\n",
       "      <td>2000</td>\n",
       "      <td>748</td>\n",
       "    </tr>\n",
       "    <tr>\n",
       "      <th>actor_2_name</th>\n",
       "      <td>Lauren Cohan</td>\n",
       "      <td>Christopher Meloni</td>\n",
       "    </tr>\n",
       "    <tr>\n",
       "      <th>actor_1_facebook_likes</th>\n",
       "      <td>15000</td>\n",
       "      <td>15000</td>\n",
       "    </tr>\n",
       "    <tr>\n",
       "      <th>gross</th>\n",
       "      <td>3.30249e+08</td>\n",
       "      <td>2.91022e+08</td>\n",
       "    </tr>\n",
       "    <tr>\n",
       "      <th>genres</th>\n",
       "      <td>Action|Adventure|Sci-Fi</td>\n",
       "      <td>Action|Adventure|Fantasy|Sci-Fi</td>\n",
       "    </tr>\n",
       "    <tr>\n",
       "      <th>actor_1_name</th>\n",
       "      <td>Henry Cavill</td>\n",
       "      <td>Henry Cavill</td>\n",
       "    </tr>\n",
       "    <tr>\n",
       "      <th>movie_title</th>\n",
       "      <td>Batman v Superman: Dawn of Justice</td>\n",
       "      <td>Man of Steel</td>\n",
       "    </tr>\n",
       "    <tr>\n",
       "      <th>num_voted_users</th>\n",
       "      <td>371639</td>\n",
       "      <td>548573</td>\n",
       "    </tr>\n",
       "    <tr>\n",
       "      <th>cast_total_facebook_likes</th>\n",
       "      <td>24450</td>\n",
       "      <td>20495</td>\n",
       "    </tr>\n",
       "    <tr>\n",
       "      <th>actor_3_name</th>\n",
       "      <td>Alan D. Purwin</td>\n",
       "      <td>Harry Lennix</td>\n",
       "    </tr>\n",
       "    <tr>\n",
       "      <th>facenumber_in_poster</th>\n",
       "      <td>0</td>\n",
       "      <td>0</td>\n",
       "    </tr>\n",
       "    <tr>\n",
       "      <th>plot_keywords</th>\n",
       "      <td>based on comic book|batman|sequel to a reboot|...</td>\n",
       "      <td>based on comic book|british actor playing amer...</td>\n",
       "    </tr>\n",
       "    <tr>\n",
       "      <th>movie_imdb_link</th>\n",
       "      <td>http://www.imdb.com/title/tt2975590/?ref_=fn_t...</td>\n",
       "      <td>http://www.imdb.com/title/tt0770828/?ref_=fn_t...</td>\n",
       "    </tr>\n",
       "    <tr>\n",
       "      <th>num_user_for_reviews</th>\n",
       "      <td>3018</td>\n",
       "      <td>2536</td>\n",
       "    </tr>\n",
       "    <tr>\n",
       "      <th>language</th>\n",
       "      <td>English</td>\n",
       "      <td>English</td>\n",
       "    </tr>\n",
       "    <tr>\n",
       "      <th>country</th>\n",
       "      <td>USA</td>\n",
       "      <td>USA</td>\n",
       "    </tr>\n",
       "    <tr>\n",
       "      <th>content_rating</th>\n",
       "      <td>PG-13</td>\n",
       "      <td>PG-13</td>\n",
       "    </tr>\n",
       "    <tr>\n",
       "      <th>budget</th>\n",
       "      <td>2.5e+08</td>\n",
       "      <td>2.25e+08</td>\n",
       "    </tr>\n",
       "    <tr>\n",
       "      <th>title_year</th>\n",
       "      <td>2016</td>\n",
       "      <td>2013</td>\n",
       "    </tr>\n",
       "    <tr>\n",
       "      <th>actor_2_facebook_likes</th>\n",
       "      <td>4000</td>\n",
       "      <td>3000</td>\n",
       "    </tr>\n",
       "    <tr>\n",
       "      <th>imdb_score</th>\n",
       "      <td>6.9</td>\n",
       "      <td>7.2</td>\n",
       "    </tr>\n",
       "    <tr>\n",
       "      <th>aspect_ratio</th>\n",
       "      <td>2.35</td>\n",
       "      <td>2.35</td>\n",
       "    </tr>\n",
       "    <tr>\n",
       "      <th>movie_facebook_likes</th>\n",
       "      <td>197000</td>\n",
       "      <td>118000</td>\n",
       "    </tr>\n",
       "  </tbody>\n",
       "</table>\n",
       "</div>"
      ],
      "text/plain": [
       "                                                                          10  \\\n",
       "color                                                                  Color   \n",
       "director_name                                                    Zack Snyder   \n",
       "num_critic_for_reviews                                                   673   \n",
       "duration                                                                 183   \n",
       "director_facebook_likes                                                    0   \n",
       "actor_3_facebook_likes                                                  2000   \n",
       "actor_2_name                                                    Lauren Cohan   \n",
       "actor_1_facebook_likes                                                 15000   \n",
       "gross                                                            3.30249e+08   \n",
       "genres                                               Action|Adventure|Sci-Fi   \n",
       "actor_1_name                                                    Henry Cavill   \n",
       "movie_title                              Batman v Superman: Dawn of Justice    \n",
       "num_voted_users                                                       371639   \n",
       "cast_total_facebook_likes                                              24450   \n",
       "actor_3_name                                                  Alan D. Purwin   \n",
       "facenumber_in_poster                                                       0   \n",
       "plot_keywords              based on comic book|batman|sequel to a reboot|...   \n",
       "movie_imdb_link            http://www.imdb.com/title/tt2975590/?ref_=fn_t...   \n",
       "num_user_for_reviews                                                    3018   \n",
       "language                                                             English   \n",
       "country                                                                  USA   \n",
       "content_rating                                                         PG-13   \n",
       "budget                                                               2.5e+08   \n",
       "title_year                                                              2016   \n",
       "actor_2_facebook_likes                                                  4000   \n",
       "imdb_score                                                               6.9   \n",
       "aspect_ratio                                                            2.35   \n",
       "movie_facebook_likes                                                  197000   \n",
       "\n",
       "                                                                          15  \n",
       "color                                                                  Color  \n",
       "director_name                                                    Zack Snyder  \n",
       "num_critic_for_reviews                                                   733  \n",
       "duration                                                                 143  \n",
       "director_facebook_likes                                                    0  \n",
       "actor_3_facebook_likes                                                   748  \n",
       "actor_2_name                                              Christopher Meloni  \n",
       "actor_1_facebook_likes                                                 15000  \n",
       "gross                                                            2.91022e+08  \n",
       "genres                                       Action|Adventure|Fantasy|Sci-Fi  \n",
       "actor_1_name                                                    Henry Cavill  \n",
       "movie_title                                                    Man of Steel   \n",
       "num_voted_users                                                       548573  \n",
       "cast_total_facebook_likes                                              20495  \n",
       "actor_3_name                                                    Harry Lennix  \n",
       "facenumber_in_poster                                                       0  \n",
       "plot_keywords              based on comic book|british actor playing amer...  \n",
       "movie_imdb_link            http://www.imdb.com/title/tt0770828/?ref_=fn_t...  \n",
       "num_user_for_reviews                                                    2536  \n",
       "language                                                             English  \n",
       "country                                                                  USA  \n",
       "content_rating                                                         PG-13  \n",
       "budget                                                              2.25e+08  \n",
       "title_year                                                              2013  \n",
       "actor_2_facebook_likes                                                  3000  \n",
       "imdb_score                                                               7.2  \n",
       "aspect_ratio                                                            2.35  \n",
       "movie_facebook_likes                                                  118000  "
      ]
     },
     "execution_count": 21,
     "metadata": {},
     "output_type": "execute_result"
    }
   ],
   "source": [
    "movies[movies.index.isin([10, 15])].T"
   ]
  },
  {
   "cell_type": "code",
   "execution_count": 131,
   "metadata": {
    "scrolled": true
   },
   "outputs": [
    {
     "data": {
      "text/plain": [
       "[(282, 0.75, 4.9013471446016155),\n",
       " (193, 0.77500000000000002, 5.4264276708495656),\n",
       " (114, 0.82499999999999996, 3.3262855288958471),\n",
       " (115, 0.84999999999999998, 6.3593958659387759),\n",
       " (347, 0.84999999999999998, -0.040634685762632794)]"
      ]
     },
     "execution_count": 131,
     "metadata": {},
     "output_type": "execute_result"
    }
   ],
   "source": [
    "nearest(200, 5)"
   ]
  },
  {
   "cell_type": "code",
   "execution_count": 132,
   "metadata": {},
   "outputs": [
    {
     "data": {
      "text/html": [
       "<div>\n",
       "<style>\n",
       "    .dataframe thead tr:only-child th {\n",
       "        text-align: right;\n",
       "    }\n",
       "\n",
       "    .dataframe thead th {\n",
       "        text-align: left;\n",
       "    }\n",
       "\n",
       "    .dataframe tbody tr th {\n",
       "        vertical-align: top;\n",
       "    }\n",
       "</style>\n",
       "<table border=\"1\" class=\"dataframe\">\n",
       "  <thead>\n",
       "    <tr style=\"text-align: right;\">\n",
       "      <th></th>\n",
       "      <th>200</th>\n",
       "      <th>282</th>\n",
       "    </tr>\n",
       "  </thead>\n",
       "  <tbody>\n",
       "    <tr>\n",
       "      <th>color</th>\n",
       "      <td>Color</td>\n",
       "      <td>Color</td>\n",
       "    </tr>\n",
       "    <tr>\n",
       "      <th>director_name</th>\n",
       "      <td>Chris Columbus</td>\n",
       "      <td>Chris Columbus</td>\n",
       "    </tr>\n",
       "    <tr>\n",
       "      <th>num_critic_for_reviews</th>\n",
       "      <td>258</td>\n",
       "      <td>232</td>\n",
       "    </tr>\n",
       "    <tr>\n",
       "      <th>duration</th>\n",
       "      <td>159</td>\n",
       "      <td>174</td>\n",
       "    </tr>\n",
       "    <tr>\n",
       "      <th>director_facebook_likes</th>\n",
       "      <td>0</td>\n",
       "      <td>0</td>\n",
       "    </tr>\n",
       "    <tr>\n",
       "      <th>actor_3_facebook_likes</th>\n",
       "      <td>645</td>\n",
       "      <td>9000</td>\n",
       "    </tr>\n",
       "    <tr>\n",
       "      <th>actor_2_name</th>\n",
       "      <td>Fiona Shaw</td>\n",
       "      <td>Rupert Grint</td>\n",
       "    </tr>\n",
       "    <tr>\n",
       "      <th>actor_1_facebook_likes</th>\n",
       "      <td>11000</td>\n",
       "      <td>11000</td>\n",
       "    </tr>\n",
       "    <tr>\n",
       "      <th>gross</th>\n",
       "      <td>3.17558e+08</td>\n",
       "      <td>2.61971e+08</td>\n",
       "    </tr>\n",
       "    <tr>\n",
       "      <th>genres</th>\n",
       "      <td>Adventure|Family|Fantasy</td>\n",
       "      <td>Adventure|Family|Fantasy|Mystery</td>\n",
       "    </tr>\n",
       "    <tr>\n",
       "      <th>actor_1_name</th>\n",
       "      <td>Daniel Radcliffe</td>\n",
       "      <td>Daniel Radcliffe</td>\n",
       "    </tr>\n",
       "    <tr>\n",
       "      <th>movie_title</th>\n",
       "      <td>Harry Potter and the Sorcerer's Stone</td>\n",
       "      <td>Harry Potter and the Chamber of Secrets</td>\n",
       "    </tr>\n",
       "    <tr>\n",
       "      <th>num_voted_users</th>\n",
       "      <td>444683</td>\n",
       "      <td>387616</td>\n",
       "    </tr>\n",
       "    <tr>\n",
       "      <th>cast_total_facebook_likes</th>\n",
       "      <td>13191</td>\n",
       "      <td>35672</td>\n",
       "    </tr>\n",
       "    <tr>\n",
       "      <th>actor_3_name</th>\n",
       "      <td>Verne Troyer</td>\n",
       "      <td>Emma Watson</td>\n",
       "    </tr>\n",
       "    <tr>\n",
       "      <th>facenumber_in_poster</th>\n",
       "      <td>4</td>\n",
       "      <td>1</td>\n",
       "    </tr>\n",
       "    <tr>\n",
       "      <th>plot_keywords</th>\n",
       "      <td>based on novel|birthday|evil wizard|quidditch|...</td>\n",
       "      <td>bildungsroman|flying broom|invisibility cloak|...</td>\n",
       "    </tr>\n",
       "    <tr>\n",
       "      <th>movie_imdb_link</th>\n",
       "      <td>http://www.imdb.com/title/tt0241527/?ref_=fn_t...</td>\n",
       "      <td>http://www.imdb.com/title/tt0295297/?ref_=fn_t...</td>\n",
       "    </tr>\n",
       "    <tr>\n",
       "      <th>num_user_for_reviews</th>\n",
       "      <td>1571</td>\n",
       "      <td>858</td>\n",
       "    </tr>\n",
       "    <tr>\n",
       "      <th>language</th>\n",
       "      <td>English</td>\n",
       "      <td>English</td>\n",
       "    </tr>\n",
       "    <tr>\n",
       "      <th>country</th>\n",
       "      <td>UK</td>\n",
       "      <td>UK</td>\n",
       "    </tr>\n",
       "    <tr>\n",
       "      <th>content_rating</th>\n",
       "      <td>PG</td>\n",
       "      <td>PG</td>\n",
       "    </tr>\n",
       "    <tr>\n",
       "      <th>budget</th>\n",
       "      <td>1.25e+08</td>\n",
       "      <td>1e+08</td>\n",
       "    </tr>\n",
       "    <tr>\n",
       "      <th>title_year</th>\n",
       "      <td>2001</td>\n",
       "      <td>2002</td>\n",
       "    </tr>\n",
       "    <tr>\n",
       "      <th>actor_2_facebook_likes</th>\n",
       "      <td>687</td>\n",
       "      <td>10000</td>\n",
       "    </tr>\n",
       "    <tr>\n",
       "      <th>imdb_score</th>\n",
       "      <td>7.5</td>\n",
       "      <td>7.4</td>\n",
       "    </tr>\n",
       "    <tr>\n",
       "      <th>aspect_ratio</th>\n",
       "      <td>2.35</td>\n",
       "      <td>2.35</td>\n",
       "    </tr>\n",
       "    <tr>\n",
       "      <th>movie_facebook_likes</th>\n",
       "      <td>16000</td>\n",
       "      <td>0</td>\n",
       "    </tr>\n",
       "  </tbody>\n",
       "</table>\n",
       "</div>"
      ],
      "text/plain": [
       "                                                                         200  \\\n",
       "color                                                                  Color   \n",
       "director_name                                                 Chris Columbus   \n",
       "num_critic_for_reviews                                                   258   \n",
       "duration                                                                 159   \n",
       "director_facebook_likes                                                    0   \n",
       "actor_3_facebook_likes                                                   645   \n",
       "actor_2_name                                                      Fiona Shaw   \n",
       "actor_1_facebook_likes                                                 11000   \n",
       "gross                                                            3.17558e+08   \n",
       "genres                                              Adventure|Family|Fantasy   \n",
       "actor_1_name                                                Daniel Radcliffe   \n",
       "movie_title                           Harry Potter and the Sorcerer's Stone    \n",
       "num_voted_users                                                       444683   \n",
       "cast_total_facebook_likes                                              13191   \n",
       "actor_3_name                                                    Verne Troyer   \n",
       "facenumber_in_poster                                                       4   \n",
       "plot_keywords              based on novel|birthday|evil wizard|quidditch|...   \n",
       "movie_imdb_link            http://www.imdb.com/title/tt0241527/?ref_=fn_t...   \n",
       "num_user_for_reviews                                                    1571   \n",
       "language                                                             English   \n",
       "country                                                                   UK   \n",
       "content_rating                                                            PG   \n",
       "budget                                                              1.25e+08   \n",
       "title_year                                                              2001   \n",
       "actor_2_facebook_likes                                                   687   \n",
       "imdb_score                                                               7.5   \n",
       "aspect_ratio                                                            2.35   \n",
       "movie_facebook_likes                                                   16000   \n",
       "\n",
       "                                                                         282  \n",
       "color                                                                  Color  \n",
       "director_name                                                 Chris Columbus  \n",
       "num_critic_for_reviews                                                   232  \n",
       "duration                                                                 174  \n",
       "director_facebook_likes                                                    0  \n",
       "actor_3_facebook_likes                                                  9000  \n",
       "actor_2_name                                                    Rupert Grint  \n",
       "actor_1_facebook_likes                                                 11000  \n",
       "gross                                                            2.61971e+08  \n",
       "genres                                      Adventure|Family|Fantasy|Mystery  \n",
       "actor_1_name                                                Daniel Radcliffe  \n",
       "movie_title                         Harry Potter and the Chamber of Secrets   \n",
       "num_voted_users                                                       387616  \n",
       "cast_total_facebook_likes                                              35672  \n",
       "actor_3_name                                                     Emma Watson  \n",
       "facenumber_in_poster                                                       1  \n",
       "plot_keywords              bildungsroman|flying broom|invisibility cloak|...  \n",
       "movie_imdb_link            http://www.imdb.com/title/tt0295297/?ref_=fn_t...  \n",
       "num_user_for_reviews                                                     858  \n",
       "language                                                             English  \n",
       "country                                                                   UK  \n",
       "content_rating                                                            PG  \n",
       "budget                                                                 1e+08  \n",
       "title_year                                                              2002  \n",
       "actor_2_facebook_likes                                                 10000  \n",
       "imdb_score                                                               7.4  \n",
       "aspect_ratio                                                            2.35  \n",
       "movie_facebook_likes                                                       0  "
      ]
     },
     "execution_count": 132,
     "metadata": {},
     "output_type": "execute_result"
    }
   ],
   "source": [
    "movies[movies.index.isin([200, 282])].T"
   ]
  },
  {
   "cell_type": "markdown",
   "metadata": {},
   "source": [
    "Je constate que les distances correspondent bien à la similarité réelle entre les films"
   ]
  },
  {
   "cell_type": "markdown",
   "metadata": {},
   "source": [
    "# Classification non supervisée des films"
   ]
  },
  {
   "cell_type": "markdown",
   "metadata": {},
   "source": [
    "Maintenant que je dispose d’une matrice des distances, regrouper les films les ***plus semblables*** à l’aide d’un algorithme de classification non supervisée semble intéressant, étant donné que la recommandation des 5 films similaires au film de l’utilisateur, se fera au sein du cluster dans lequel il se trouve, faut-il encore, que son cluster contienne 5 films …  \n",
    "\n",
    "Bien, d’emblée, j’ai écarté l’algorithme des [**k-means**](https://fr.wikipedia.org/wiki/K-moyennes), ce dernier cherchant à classifier des points en entrée – ici, mes films – en k groupe de façon à minimiser la *somme des carrés des distances* de chaque point au **centroïde** (la moyenne des points) de son cluster (groupe). \n",
    "\n",
    "Mais quel est le centroïde  d’un cluster de films, tenant compte de la manière avec laquelle j’ai défini ma distance ? \n",
    "\n",
    "**Le k-means, convient quand l’espace et la distance considérés sont Euclidiens.**\n"
   ]
  },
  {
   "cell_type": "markdown",
   "metadata": {},
   "source": [
    "# Expérimentation du DBSCN"
   ]
  },
  {
   "cell_type": "markdown",
   "metadata": {},
   "source": [
    "N'ayant pas la moindre idée du nombre des **clusters potentiels** et de leurs **formes**, j'ai trouvé alors convenable de tester l’algorithme [DBSCAN](https://fr.wikipedia.org/wiki/DBSCAN). **agnostique** quant à lui à la **distance** utilisée et **n’exigeant pas** de prédéfinir le **nombre de clusters** souhaité.\n",
    "\n",
    "Il faut tout de même définir les deux paramètres d'entrée pour DBSCAN:\n",
    " - **eps (epsilon)**: un nombre réel positif\n",
    " - **min_samples** : le nombre minimum de points devant se trouver dans un rayon de taille **eps** pour que ces points soient considérés comme un cluster\n",
    "\n",
    "Pour ce faire, je me suis basé (*plus ou moins*) sur l’heuristique suivante ([***wikipedia*** ](https://fr.wikipedia.org/wiki/DBSCAN)):  \n",
    "\n",
    "<div style=\"background-color:#e8efea;padding:10px\">\n",
    "Une heuristique permettant de déterminer conjointement epsilon  et  MinPts pour un certain espace pourrait être donnée par :  \n",
    "<br/>\n",
    "***epsilon***  : \n",
    "- Calculer pour chaque point de l'espace la distance à son plus proche voisin. \n",
    "- Prendre ***epsilon***  tel qu'une part **\"suffisamment grande\"** des points aient une distance à son plus proche voisin **inférieure** à epsilon ;  \n",
    "<br/>\n",
    "***MinPts*** : \n",
    "- Calculer pour chaque point le nombre de ses voisins dans un rayon de taille ***epsilon***  (*la taille de son epsilon -voisinage*). \n",
    "- Prendre MinPts tel qu'une part **\"suffisamment grande\"** des points aient plus de  MinPts points dans leur *epsilon -voisinage*.  \n",
    "<br/>\n",
    "Par **\"suffisamment grand\"** on entend, par exemple, **95%** ou **90%** des points   \n",
    "[***source: wikipedia*** ](https://fr.wikipedia.org/wiki/DBSCAN)\n",
    "</div>"
   ]
  },
  {
   "cell_type": "markdown",
   "metadata": {},
   "source": [
    "**Définir epsilon**"
   ]
  },
  {
   "cell_type": "code",
   "execution_count": 22,
   "metadata": {
    "collapsed": true
   },
   "outputs": [],
   "source": [
    "# chercher empiriquement eps et min_samples les deux parameteres à passer au moteur de dbscan :\n",
    "# epsilon  : calculer pour chaque point de l'espace la distance à son plus proche voisin. \n",
    "# Prendre epsilon  tel qu'une part \"suffisamment grande\"(90%) des points aient \n",
    "# une distance à son plus proche voisin inférieure à epsilon (wikipedia);\n",
    "min_distances = np.apply_along_axis(lambda l : min([i for i in l if i]), axis=1, arr=X )# pour trouver le min hors 0."
   ]
  },
  {
   "cell_type": "code",
   "execution_count": 23,
   "metadata": {},
   "outputs": [
    {
     "data": {
      "text/plain": [
       "0.7030812324929971"
      ]
     },
     "execution_count": 23,
     "metadata": {},
     "output_type": "execute_result"
    }
   ],
   "source": [
    "eps = 0.87 #0.89\n",
    "sum([1 for i in min_distances if i < eps])/len(min_distances)"
   ]
  },
  {
   "cell_type": "markdown",
   "metadata": {},
   "source": [
    "**Définir min_samples**"
   ]
  },
  {
   "cell_type": "code",
   "execution_count": 25,
   "metadata": {},
   "outputs": [
    {
     "data": {
      "text/plain": [
       "array([22, 12,  6, ...,  2,  1,  1])"
      ]
     },
     "execution_count": 25,
     "metadata": {},
     "output_type": "execute_result"
    }
   ],
   "source": [
    "# min_samples : calculer pour chaque point le nombre de ses voisins dans un rayon de taille epsilon \n",
    "# (la taille de son epsilon -voisinage). \n",
    "# Prendre min_samples tel qu'une part \"suffisamment grande\"(90%) des points \n",
    "# aient plus de  min_samples points dans leur epsilon -voisinage.\n",
    "neighborhood_size = np.apply_along_axis(lambda l : sum([1 for i in l if i < eps]), axis=1, arr=X )\n",
    "neighborhood_size"
   ]
  },
  {
   "cell_type": "code",
   "execution_count": 26,
   "metadata": {},
   "outputs": [
    {
     "data": {
      "text/plain": [
       "0.4645858343337335"
      ]
     },
     "execution_count": 26,
     "metadata": {},
     "output_type": "execute_result"
    }
   ],
   "source": [
    "min_samples = 3\n",
    "sum([1 for i in neighborhood_size if i > min_samples])/len(neighborhood_size)"
   ]
  },
  {
   "cell_type": "markdown",
   "metadata": {},
   "source": [
    "**Lancement de l'algorithme DBSCAN**"
   ]
  },
  {
   "cell_type": "code",
   "execution_count": 27,
   "metadata": {},
   "outputs": [
    {
     "data": {
      "text/plain": [
       "DBSCAN(algorithm='auto', eps=0.87, leaf_size=30, metric='precomputed',\n",
       "    metric_params=None, min_samples=3, n_jobs=1, p=None)"
      ]
     },
     "execution_count": 27,
     "metadata": {},
     "output_type": "execute_result"
    }
   ],
   "source": [
    "from sklearn.cluster import DBSCAN\n",
    "db = DBSCAN(epsilon, minPts, metric=\"precomputed\")\n",
    "db.fit(X)"
   ]
  },
  {
   "cell_type": "markdown",
   "metadata": {},
   "source": [
    "** Nombre et tailles des clusters trouvés **"
   ]
  },
  {
   "cell_type": "code",
   "execution_count": 28,
   "metadata": {},
   "outputs": [
    {
     "name": "stdout",
     "output_type": "stream",
     "text": [
      "34 clusters\n"
     ]
    }
   ],
   "source": [
    "labels = db.labels_\n",
    "#nombre de clusters, hors \"bruit\".\n",
    "n_clusters_ = len(set(labels)) - (1 if -1 in labels else 0)\n",
    "print(n_clusters_, \"clusters\")"
   ]
  },
  {
   "cell_type": "code",
   "execution_count": 29,
   "metadata": {},
   "outputs": [
    {
     "name": "stdout",
     "output_type": "stream",
     "text": [
      "1686 bruits\n"
     ]
    }
   ],
   "source": [
    "n_noises = sum([1 for i in labels if i == -1])\n",
    "print(n_noises, \"bruits\")"
   ]
  },
  {
   "cell_type": "code",
   "execution_count": 30,
   "metadata": {
    "scrolled": false
   },
   "outputs": [
    {
     "name": "stdout",
     "output_type": "stream",
     "text": [
      "{(1, 3), (28, 4), (30, 3), (14, 4), (17, 3), (15, 5), (10, 3), (33, 3), (25, 4), (13, 3), (7, 6), (26, 3), (6, 3), (19, 3), (29, 3), (23, 6), (20, 4), (12, 3), (16, 4), (4, 5), (0, 3192), (9, 3), (32, 4), (31, 3), (5, 3), (3, 5), (8, 3), (18, 3), (11, 3), (22, 5), (-1, 1686), (21, 3), (27, 3), (24, 3), (2, 4)}\n"
     ]
    }
   ],
   "source": [
    "clusters = {} \n",
    "for i, label in enumerate(labels):\n",
    "    if label not in clusters:\n",
    "        clusters[label] =[]\n",
    "    (clusters[label]).append(i)\n",
    "    \n",
    "clusters_sizes = {(key, len(value)) for  key, value in clusters.items()}\n",
    "print(clusters_sizes)"
   ]
  },
  {
   "cell_type": "markdown",
   "metadata": {},
   "source": [
    "** Analyse et explication**"
   ]
  },
  {
   "cell_type": "markdown",
   "metadata": {},
   "source": [
    "J’ai testé suffisamment de valeurs (*même parfois aberrantes*) pour **epsilon** et **min_samples**, le résultat a été toujours « *peu satisfaisant* »  au vu de notre objectif de recommandation, dans la mesure où il y’a toujours un cluster **0** qui contient « *beaucoup* » d’éléments.\n",
    "\n",
    "A titre d’exemple : pour (epsilon, min_samples) = (0.87, 3), j’ai eu les résultats suivant :  \n",
    "- **34** clusters dont un cluster qui contient **3192** films.  \n",
    "- **1686** films ont été considérés comme « bruits »\n",
    "\n",
    "**Pourquoi ?**\n",
    "\n",
    "Je reviens à cette question, dans la suite,  après avoir examiné quelques clusters.  \n",
    "\n",
    "**Le cluster 10** - à titre d’exemple - se compose des films **[1926, 2746, 3298]**,  \n",
    "Pour  examiner ce résultat, j’ai cherché – en dehors de toute classification – à l’aide de la matrice des distances les **5** films les plus proches au film **1926** (présent dans le cluster), les films **2746, 3298** y figurent."
   ]
  },
  {
   "cell_type": "code",
   "execution_count": 31,
   "metadata": {},
   "outputs": [
    {
     "name": "stdout",
     "output_type": "stream",
     "text": [
      "[1926, 2746, 3298]\n"
     ]
    },
    {
     "data": {
      "text/plain": [
       "[(2746, 0.84999999999999998),\n",
       " (3298, 0.84999999999999998),\n",
       " (1114, 0.875),\n",
       " (2870, 0.875),\n",
       " (223, 0.90000000000000002)]"
      ]
     },
     "execution_count": 31,
     "metadata": {},
     "output_type": "execute_result"
    }
   ],
   "source": [
    "# Visualisation du contenu du cluster\n",
    "print(clusters[10])\n",
    "nearest(1926, 5)"
   ]
  },
  {
   "cell_type": "markdown",
   "metadata": {},
   "source": [
    "Idem, pour **le cluster 4** se composant des films **[973, 1544, 2999, 3097, 3205]**  \n",
    "L’ensemble des films du cluster apparaissent dans les **15** films les **plus proches** au film **973**."
   ]
  },
  {
   "cell_type": "code",
   "execution_count": 33,
   "metadata": {},
   "outputs": [
    {
     "name": "stdout",
     "output_type": "stream",
     "text": [
      "[973, 1544, 2999, 3097, 3205]\n"
     ]
    },
    {
     "data": {
      "text/plain": [
       "[(2999, 0.82499999999999996),\n",
       " (3205, 0.84999999999999998),\n",
       " (24, 0.875),\n",
       " (134, 0.875),\n",
       " (336, 0.875),\n",
       " (806, 0.875),\n",
       " (851, 0.875),\n",
       " (1218, 0.875),\n",
       " (1544, 0.875),\n",
       " (1568, 0.875),\n",
       " (1865, 0.875),\n",
       " (2326, 0.875),\n",
       " (3032, 0.875),\n",
       " (3097, 0.875),\n",
       " (3121, 0.875)]"
      ]
     },
     "execution_count": 33,
     "metadata": {},
     "output_type": "execute_result"
    }
   ],
   "source": [
    "# Visualisation du contenu du cluster\n",
    "print(clusters[4])\n",
    "nearest(973, 15)"
   ]
  },
  {
   "cell_type": "markdown",
   "metadata": {},
   "source": [
    "Mais pourquoi le cluster **0** contient **3192** éléments, soit plus **63%** de l’ensemble des films ? et cela même après avoir lancé plusieurs fois l'algorithme avec différentes valeurs de epsilon et min_samples !?\n",
    "\n",
    "Réexaminons notre matrice de distance, X .\n",
    "\n",
    "\n",
    "La matrice X des distances est de taille **(4998 x 4998)**, X est **symétrique**, donc X représente  \n",
    "\n",
    "(4998 x 4998) /2 = **12 490 002** distances entre couple de films,  \n",
    "\n",
    "Or, par construction même, toutes ces valeurs sont dans l’ensemble **{0, 1/40, 2/40…,39/40, 1}** qui est de cardinal **41**. <span style=\"color:red\"><strong>c’est **très dense**</strong></span>.  \n",
    "Cela empêche l’algorithme du **DBSCAN** de ***propager les clusters*** et il arrive de passer de proche en proche en restant «* assez longtemps *» à l'intérieur  du même cluster.\n"
   ]
  },
  {
   "cell_type": "markdown",
   "metadata": {},
   "source": [
    "**Coefficient de silouhette**\n",
    "\n",
    "Plus formellement, je calcule ci-dessous le coefficient de silhouette."
   ]
  },
  {
   "cell_type": "code",
   "execution_count": 35,
   "metadata": {},
   "outputs": [
    {
     "data": {
      "text/plain": [
       "-0.031268012971962807"
      ]
     },
     "execution_count": 35,
     "metadata": {},
     "output_type": "execute_result"
    }
   ],
   "source": [
    "# coeffecient de silhouette\n",
    "from sklearn import metrics\n",
    "metrics.silhouette_score(X, labels, metric='precomputed') "
   ]
  },
  {
   "cell_type": "markdown",
   "metadata": {},
   "source": [
    "Je constate conformément à l’analyse faite « à l’œil » que le coefficient est plus proche de 0 que de 1.  \n",
    "En définitif,  la classification avec **DBSCAN** n’a pas donné un résultat satisfaisant."
   ]
  },
  {
   "cell_type": "markdown",
   "metadata": {},
   "source": [
    "# Expérimentation du clustering hiérarchique"
   ]
  },
  {
   "cell_type": "markdown",
   "metadata": {},
   "source": [
    "Vu la faible taille du dataset (4998), expérimenter la classification avec un algorithme hiérarchique est tout à fait envisageable.\n",
    "\n",
    "J’ai fait plusieurs essais pour un nombre de clusters différents en oservant à chaque fois le coefficient de silhouette,  les résultats ne sont malheureusement pas plus satisfaisants que ceux de DBSCAN.\n",
    "Comme le montre l’observation de certains clusters ci-dessous :\n"
   ]
  },
  {
   "cell_type": "markdown",
   "metadata": {},
   "source": [
    "**Lancement de l'algorithme **"
   ]
  },
  {
   "cell_type": "code",
   "execution_count": 75,
   "metadata": {},
   "outputs": [
    {
     "data": {
      "text/plain": [
       "AgglomerativeClustering(affinity='precomputed', compute_full_tree='auto',\n",
       "            connectivity=None, linkage='complete', memory=None,\n",
       "            n_clusters=50,\n",
       "            pooling_func=<function mean at 0x0000000005DD9378>)"
      ]
     },
     "execution_count": 75,
     "metadata": {},
     "output_type": "execute_result"
    }
   ],
   "source": [
    "from sklearn.cluster import AgglomerativeClustering\n",
    "ch = AgglomerativeClustering(n_clusters=50, linkage=\"complete\", affinity=\"precomputed\")\n",
    "ch.fit(X)"
   ]
  },
  {
   "cell_type": "markdown",
   "metadata": {},
   "source": [
    "** Nombre et tailles des clusters trouvés **"
   ]
  },
  {
   "cell_type": "code",
   "execution_count": 76,
   "metadata": {},
   "outputs": [
    {
     "name": "stdout",
     "output_type": "stream",
     "text": [
      "50 clusters\n"
     ]
    }
   ],
   "source": [
    "ch_labels = ch.labels_\n",
    "#nombre de clusters, hors \"bruit\".\n",
    "n_ch_clusters_ = len(set(ch_labels)) - (1 if -1 in ch_labels else 0)\n",
    "print(n_ch_clusters_, \"clusters\")"
   ]
  },
  {
   "cell_type": "code",
   "execution_count": 77,
   "metadata": {
    "scrolled": true
   },
   "outputs": [
    {
     "name": "stdout",
     "output_type": "stream",
     "text": [
      "{(4, 92), (13, 66), (22, 13), (10, 42), (41, 2), (7, 38), (40, 32), (48, 32), (1, 262), (42, 148), (11, 57), (32, 33), (12, 79), (24, 274), (34, 95), (20, 66), (27, 82), (38, 75), (28, 79), (37, 26), (9, 83), (39, 40), (14, 72), (21, 88), (25, 139), (17, 19), (5, 101), (0, 1108), (47, 52), (2, 72), (23, 29), (43, 124), (18, 61), (31, 34), (29, 281), (30, 68), (8, 48), (3, 36), (46, 72), (15, 37), (49, 96), (19, 27), (45, 112), (33, 37), (26, 5), (44, 62), (36, 214), (6, 184), (35, 48), (16, 56)}\n"
     ]
    }
   ],
   "source": [
    "ch_clusters = {} \n",
    "for i, label in enumerate(ch_labels):\n",
    "    if label not in ch_clusters:\n",
    "        ch_clusters[label] =[]\n",
    "    (ch_clusters[label]).append(i)\n",
    "    \n",
    "ch_clusters_sizes = {(key, len(value)) for  key, value in ch_clusters.items()}\n",
    "print(ch_clusters_sizes)"
   ]
  },
  {
   "cell_type": "code",
   "execution_count": 78,
   "metadata": {},
   "outputs": [
    {
     "data": {
      "text/plain": [
       "-0.013564795730412939"
      ]
     },
     "execution_count": 78,
     "metadata": {},
     "output_type": "execute_result"
    }
   ],
   "source": [
    "# coeffecient de silhouette\n",
    "from sklearn import metrics\n",
    "metrics.silhouette_score(X, ch_labels, metric='precomputed') "
   ]
  },
  {
   "cell_type": "code",
   "execution_count": 54,
   "metadata": {
    "scrolled": false
   },
   "outputs": [
    {
     "name": "stdout",
     "output_type": "stream",
     "text": [
      "[1733, 1866, 1882, 2966, 3284, 3457, 4119, 4247, 4282, 4503, 4587, 4640, 4892]\n"
     ]
    }
   ],
   "source": [
    "# Visualisation du contenu du cluster\n",
    "print(ch_clusters[22])"
   ]
  },
  {
   "cell_type": "markdown",
   "metadata": {},
   "source": [
    "Un seul film (le 1866) du cluster \"sort\" dans les 20 films les plus proches au film 1733"
   ]
  },
  {
   "cell_type": "code",
   "execution_count": 79,
   "metadata": {
    "scrolled": false
   },
   "outputs": [
    {
     "name": "stdout",
     "output_type": "stream",
     "text": [
      "0.95\n"
     ]
    },
    {
     "data": {
      "text/plain": [
       "[(514, 0.875),\n",
       " (1866, 0.875),\n",
       " (2326, 0.875),\n",
       " (352, 0.90000000000000002),\n",
       " (370, 0.90000000000000002),\n",
       " (551, 0.90000000000000002),\n",
       " (667, 0.90000000000000002),\n",
       " (882, 0.90000000000000002),\n",
       " (1087, 0.90000000000000002),\n",
       " (1237, 0.90000000000000002),\n",
       " (1442, 0.90000000000000002),\n",
       " (1519, 0.90000000000000002),\n",
       " (1568, 0.90000000000000002),\n",
       " (1762, 0.90000000000000002),\n",
       " (1865, 0.90000000000000002),\n",
       " (1920, 0.90000000000000002),\n",
       " (1922, 0.90000000000000002),\n",
       " (2310, 0.90000000000000002),\n",
       " (2470, 0.90000000000000002),\n",
       " (2629, 0.90000000000000002)]"
      ]
     },
     "execution_count": 79,
     "metadata": {},
     "output_type": "execute_result"
    }
   ],
   "source": [
    "# Les voisins les plus proches pour comparer\n",
    "nearest(1733,20)"
   ]
  },
  {
   "cell_type": "markdown",
   "metadata": {},
   "source": [
    "# Solution de recommandation retenue "
   ]
  },
  {
   "cell_type": "markdown",
   "metadata": {},
   "source": [
    "- A défaut de trouver des clusters «** loin les uns des autres** » et  « **bien resserrés sur eux-mêmes** » comme on aimerait avoir (mais existent-ils dans mon data set ?)\n",
    "- Et vu la taille du data set relativement faible. \n",
    "- Et disposant déjà de la matrice des distances 2 à 2 entre les films\n",
    "\n",
    "J’ai décidé, étant donné un film F, de faire la recommandation des <span style='color:green'> **5 films les plus proches directement lus dans la matrice des distances**. </span>\n",
    "\n",
    "Il me restait à résoudre le problème suivant, à distance égale par rapport à F,  quel film doit recommander le moteur ?\n",
    "\n",
    "\n",
    "J’ai introduis alors un coefficient de **popularité** et à distance égale, le film le **plus populaire** sera recommandé.\n"
   ]
  },
  {
   "cell_type": "markdown",
   "metadata": {},
   "source": [
    "# Popularité"
   ]
  },
  {
   "cell_type": "markdown",
   "metadata": {},
   "source": [
    "**Les « likes » facebook** "
   ]
  },
  {
   "cell_type": "markdown",
   "metadata": {},
   "source": [
    "Dans un premier temps, je me suis intéressé à la corrélation (prévisible) qui pourrait exister entre certaines variables  \n",
    "représentant les différentes « likes » Facebook\n",
    "- actor_1_facebook_likes\n",
    "- actor_2_facebook_likes \n",
    "- actor_3_facebook_likes \n",
    "- cast_total_facebook_likes \n"
   ]
  },
  {
   "cell_type": "code",
   "execution_count": 83,
   "metadata": {},
   "outputs": [
    {
     "name": "stderr",
     "output_type": "stream",
     "text": [
      "C:\\ProgramData\\Anaconda3\\lib\\site-packages\\biokit\\viz\\linkage.py:41: ClusterWarning: scipy.cluster: The symmetric non-negative hollow observation matrix looks suspiciously like an uncondensed distance matrix\n",
      "  Y = hierarchy.linkage(D, method=method, metric=metric)\n"
     ]
    },
    {
     "data": {
      "image/png": "[encoded data removed]",
      "text/plain": [
       "<matplotlib.figure.Figure at 0xe231908>"
      ]
     },
     "metadata": {},
     "output_type": "display_data"
    }
   ],
   "source": [
    "fb_cols = ['actor_1_facebook_likes','actor_2_facebook_likes','actor_3_facebook_likes','cast_total_facebook_likes']\n",
    "fb_movies = movies[fb_cols]\n",
    "\n",
    "plt.rcParams['figure.dpi'] = 70\n",
    "plt.rcParams['figure.figsize'] = (7,5)\n",
    "c = corrplot.Corrplot(fb_movies.corr())\n",
    "c.plot(method='pie', upper='pie', shrink= .9, grid=False, fontsize=8)\n",
    "plt.show()"
   ]
  },
  {
   "cell_type": "markdown",
   "metadata": {},
   "source": [
    "Ces variables sont linéairement corrélées, pour plus de détails, j’ai fait une analyse ACP  \n",
    "\n",
    "J'effectue préalablement un \"simple nettoyage\" de données en remplaçant les valeurs manquantes par la médiane (étant plus robuste aux outliers)"
   ]
  },
  {
   "cell_type": "code",
   "execution_count": 85,
   "metadata": {},
   "outputs": [
    {
     "name": "stderr",
     "output_type": "stream",
     "text": [
      "C:\\ProgramData\\Anaconda3\\lib\\site-packages\\ipykernel_launcher.py:7: SettingWithCopyWarning: \n",
      "A value is trying to be set on a copy of a slice from a DataFrame.\n",
      "Try using .loc[row_indexer,col_indexer] = value instead\n",
      "\n",
      "See the caveats in the documentation: http://pandas.pydata.org/pandas-docs/stable/indexing.html#indexing-view-versus-copy\n",
      "  import sys\n"
     ]
    }
   ],
   "source": [
    "# fonctions renvoyant les 3 quartiles pour une colonne donnée.\n",
    "def median(col):\n",
    "    return movies[col].quantile(.5)  # deuxième quartile\n",
    "\n",
    "# remplacer les manquants par la médiane\n",
    "for col in pca_cols:\n",
    "    fb_movies[col] = fb_movies[col].fillna(median(col))"
   ]
  },
  {
   "cell_type": "markdown",
   "metadata": {},
   "source": [
    "**L'ACP**"
   ]
  },
  {
   "cell_type": "code",
   "execution_count": 86,
   "metadata": {},
   "outputs": [
    {
     "name": "stdout",
     "output_type": "stream",
     "text": [
      "[ 0.66469671  0.22948684]\n",
      "0.894183546992\n"
     ]
    }
   ],
   "source": [
    "from sklearn import preprocessing;\n",
    "D = fb_movies.values\n",
    "std_scale = preprocessing.StandardScaler().fit(D)\n",
    "D_scaled = std_scale.transform(D)\n",
    "\n",
    "from sklearn import decomposition\n",
    "pca = decomposition.PCA(n_components=2)\n",
    "pca.fit(D_scaled)\n",
    "\n",
    "print(pca.explained_variance_ratio_)\n",
    "print(pca.explained_variance_ratio_.sum())"
   ]
  },
  {
   "cell_type": "code",
   "execution_count": 99,
   "metadata": {},
   "outputs": [
    {
     "data": {
      "image/png": "[encoded data removed]",
      "text/plain": [
       "<matplotlib.figure.Figure at 0xe2ebef0>"
      ]
     },
     "metadata": {},
     "output_type": "display_data"
    },
    {
     "data": {
      "image/png": "[encoded data removed]",
      "text/plain": [
       "<matplotlib.figure.Figure at 0xe36add8>"
      ]
     },
     "metadata": {},
     "output_type": "display_data"
    }
   ],
   "source": [
    "pcs = pca.components_\n",
    "\n",
    "plt.figure(figsize=(5,5))\n",
    "for i, (x, y) in enumerate(zip(pcs[0, :], pcs[1, :])):\n",
    "    # Afficher un segment de l'origine au point (x, y)\n",
    "    plt.plot([0, x], [0, y], color='k')\n",
    "    # Afficher le nom (data.columns[i]) \n",
    "    plt.text(x, y, fb_movies.columns[i], fontsize='12')\n",
    "\n",
    "# Afficher une ligne horizontale y=0\n",
    "plt.plot([-1, 1], [0, 0], color='grey', ls='--')\n",
    "\n",
    "# Afficher une ligne verticale x=0\n",
    "plt.plot([0, 0], [-1, 1], color='grey', ls='--')\n",
    "\n",
    "plt.xlim([-1, 1])\n",
    "plt.ylim([-1, 1])\n",
    "plt.show()\n",
    "\n",
    "###  affichage nuage de points \n",
    "fig = plt.figure(figsize=(6,6))\n",
    "# projeter D sur les composantes principales\n",
    "D_projected = pca.transform(D_scaled)\n",
    "\n",
    "# Afficher une ligne horizontale y=0\n",
    "plt.plot([-5, 5], [0, 0], color='grey', ls='--')\n",
    "\n",
    "# Afficher une ligne verticale x=0\n",
    "plt.plot([0, 0], [-4, 4], color='grey', ls='--')\n",
    "\n",
    "# afficher chaque observation\n",
    "plt.scatter(\n",
    "    D_projected[:, 0],\n",
    "    D_projected[:, 1],\n",
    ")\n",
    "plt.xlim([-5.5, 5.5])\n",
    "plt.ylim([-4, 4])\n",
    "plt.show()"
   ]
  },
  {
   "cell_type": "markdown",
   "metadata": {},
   "source": [
    "Clairement, il y ‘a un effet « **taille** » , toutes ces variables sont de même signe sur le premier axe factoriel  et elles sont **toutes corrélées positivement entre elles** .\n",
    "\n",
    "L'axe principale oppose simplement les films les \"plus likés\" (au sens global) aux autres !\n",
    "\n",
    "Par ailleurs, **le premier axe seul**, « *explique* » presque **70%** de l’information (la variance)   \n",
    "Je **résume** alors désormais ces variables par une **seule**, c’est justement **la projection sur le premier axe factoriel**,  je l’appelle **fb_likes_scaled**"
   ]
  },
  {
   "cell_type": "code",
   "execution_count": 124,
   "metadata": {},
   "outputs": [
    {
     "data": {
      "text/plain": [
       "array([[-0.3757853 ],\n",
       "       [ 2.8780533 ],\n",
       "       [-0.04906923],\n",
       "       ..., \n",
       "       [-0.88840797],\n",
       "       [-0.57297924],\n",
       "       [-0.87352651]])"
      ]
     },
     "execution_count": 124,
     "metadata": {},
     "output_type": "execute_result"
    }
   ],
   "source": [
    "fb_likes_scaled = D_projected[:, [0]]\n",
    "fb_likes_scaled"
   ]
  },
  {
   "cell_type": "markdown",
   "metadata": {},
   "source": [
    "Remarquons au passage que le **imdb_score** est bien **compris entre 0 et 10** et n’a pas de valeurs aberrantes"
   ]
  },
  {
   "cell_type": "code",
   "execution_count": 235,
   "metadata": {
    "scrolled": false
   },
   "outputs": [
    {
     "data": {
      "image/png": "[encoded data removed]",
      "text/plain": [
       "<matplotlib.figure.Figure at 0x1e37eeb8>"
      ]
     },
     "metadata": {},
     "output_type": "display_data"
    }
   ],
   "source": [
    "movies.boxplot(column=['imdb_score'])\n",
    "plt.show()"
   ]
  },
  {
   "cell_type": "markdown",
   "metadata": {},
   "source": [
    "Je veux construire mon coefficient de popularité, comme suit :\n",
    "\n",
    "\n",
    "** Popuplarity = imdb_score + fb_likes ** \n",
    "\n",
    "imdb_score est fourni dans le data_set , mais pour donner dans cette somme **la même importance** aux deux membres, je commence par **centrer et réduire** la variable **imdb_score**\n"
   ]
  },
  {
   "cell_type": "code",
   "execution_count": 103,
   "metadata": {},
   "outputs": [
    {
     "data": {
      "text/plain": [
       "array([[ 1.29799847],\n",
       "       [ 0.58625143],\n",
       "       [ 0.31934629],\n",
       "       ..., \n",
       "       [-0.12549561],\n",
       "       [-0.12549561],\n",
       "       [ 0.14140953]])"
      ]
     },
     "execution_count": 103,
     "metadata": {},
     "output_type": "execute_result"
    }
   ],
   "source": [
    "imdb = (movies['imdb_score'].values).reshape(-1, 1)\n",
    "imdb_scaled = preprocessing.StandardScaler().fit(imdb).transform(imdb)\n",
    "imdb_scaled"
   ]
  },
  {
   "cell_type": "markdown",
   "metadata": {},
   "source": [
    "Et ci-dessous la matrice colonne de la popularité des films  \n",
    "\n",
    "<span style=\"color:green\">**popularity = fb_likes_scaled + imdb_scaled**<span>"
   ]
  },
  {
   "cell_type": "code",
   "execution_count": 125,
   "metadata": {},
   "outputs": [
    {
     "data": {
      "text/plain": [
       "array([[ 0.92221317],\n",
       "       [ 3.46430473],\n",
       "       [ 0.27027706],\n",
       "       ..., \n",
       "       [-1.01390358],\n",
       "       [-0.69847485],\n",
       "       [-0.73211699]])"
      ]
     },
     "execution_count": 125,
     "metadata": {},
     "output_type": "execute_result"
    }
   ],
   "source": [
    "popularity = fb_likes_scaled + imdb_scaled\n",
    "popularity\n"
   ]
  },
  {
   "cell_type": "markdown",
   "metadata": {},
   "source": [
    "Je redéfinie la fonction « nearest » qui renvoie désormais les films les plus proches, en tenant compte de la popularité si distances égales."
   ]
  },
  {
   "cell_type": "code",
   "execution_count": 127,
   "metadata": {
    "collapsed": true
   },
   "outputs": [],
   "source": [
    "# renvoi les n  films les plus similaires  au film passé en parametre idx_movie en tenant\n",
    "# compte de la popularité si distance égale \n",
    "from operator import itemgetter\n",
    "def nearest(idx_movie, n, distanceX = X): \n",
    "    max_dist = sorted(distanceX[idx_movie])[n:n+1:]\n",
    "    s = sorted(\n",
    "        [(i, dist, popularity[i][0]) for i, dist in enumerate(distanceX[idx_movie]) if dist <= max_dist and i != idx_movie],\n",
    "        key=itemgetter(2),\n",
    "        reverse=True\n",
    "    )\n",
    "    return sorted(s, key=itemgetter(1))[0:n:]"
   ]
  },
  {
   "cell_type": "code",
   "execution_count": 236,
   "metadata": {
    "scrolled": true
   },
   "outputs": [
    {
     "data": {
      "text/plain": [
       "[(15, 0.75, 1.5013952648586799),\n",
       " (8, 0.82499999999999996, 11.097618668111455),\n",
       " (27, 0.82499999999999996, 8.458621532785461),\n",
       " (542, 0.82499999999999996, 0.98152911973990176),\n",
       " (65, 0.84999999999999998, 4.4314248439414339)]"
      ]
     },
     "execution_count": 236,
     "metadata": {},
     "output_type": "execute_result"
    }
   ],
   "source": [
    "nearest(10, 5)"
   ]
  },
  {
   "cell_type": "markdown",
   "metadata": {},
   "source": [
    "# Génération du script SQL et mise en ligne"
   ]
  },
  {
   "cell_type": "markdown",
   "metadata": {},
   "source": [
    "A l’aide de la fonction, « nearest » j’alimente une table **movie** qui contient pour chaque film les informations suivantes:\n",
    "- L’id du film\n",
    "- Le titre du film\n",
    "- L’url IMDB du film\n",
    "- Et les id des 10 films les plus proches\n",
    "\n",
    "Une api (python/Falsk) est disponible en ligne pour pouvoir interroger le service en passant un id de film ou un titre.\n",
    "\n",
    "\n",
    "**Un exemple d’appel par id :**\n",
    "\n",
    "curl -G  \"https://op-proj3.herokuapp.com/movie/5/nearest/\"  --data-urlencode \"id=200\"\n",
    " \n",
    "**Un exemple d’appel par titre :**\n",
    "\n",
    "curl -G  \"https://op-proj3.herokuapp.com/movie/5/nearest/\"  --data-urlencode \"title=Harry Potter and the Sorcerer's Stone\"\n",
    "\n",
    "**Résultat :** \n",
    "\n",
    "[  \n",
    "    {\n",
    "        \"id\": 282,\n",
    "        \"title\": \"Harry Potter and the Chamber of Secrets\"\n",
    "    },  \n",
    "    {\n",
    "        \"id\": 193,\n",
    "        \"title\": \"Harry Potter and the Prisoner of Azkaban\"\n",
    "    },  \n",
    "    {\n",
    "        \"id\": 114,\n",
    "        \"title\": \"Harry Potter and the Order of the Phoenix\"\n",
    "    },  \n",
    "    {\n",
    "        \"id\": 115,\n",
    "        \"title\": \"Harry Potter and the Goblet of Fire\"\n",
    "    },  \n",
    "    {\n",
    "        \"id\": 347,\n",
    "        \"title\": \"Percy Jackson & the Olympians: The Lightning Thief\"\n",
    "    }  \n",
    "    ]\n",
    "\n"
   ]
  },
  {
   "cell_type": "code",
   "execution_count": 210,
   "metadata": {
    "collapsed": true
   },
   "outputs": [],
   "source": [
    "import unicodedata\n",
    "def nz(string):\n",
    "    return unicodedata.normalize(\"NFKD\", string).replace(\"'\",\"''\").strip()\n",
    "insert_values = [ '('+\n",
    "                 ','.join([str(idx), \"'\"+nz(row['movie_title'])+\"'\", \"'\"+nz(row['movie_imdb_link'])+\"'\",\"'{\"+ ','.join([str(x[0]) for x in nearest(idx,10)]) + \"}'::INTEGER[]\"])\n",
    "                 +')'\n",
    "                 for idx, row in movies.iterrows()  \n",
    "                ]"
   ]
  },
  {
   "cell_type": "code",
   "execution_count": 212,
   "metadata": {
    "collapsed": true
   },
   "outputs": [],
   "source": [
    "script_sql = 'INSERT INTO movie (id, title, url, neighbors) VALUES '+','.join(insert_values)"
   ]
  }
 ],
 "metadata": {
  "kernelspec": {
   "display_name": "Python 3",
   "language": "python",
   "name": "python3"
  },
  "language_info": {
   "codemirror_mode": {
    "name": "ipython",
    "version": 3
   },
   "file_extension": ".py",
   "mimetype": "text/x-python",
   "name": "python",
   "nbconvert_exporter": "python",
   "pygments_lexer": "ipython3",
   "version": "3.6.3"
  }
 },
 "nbformat": 4,
 "nbformat_minor": 2
}
